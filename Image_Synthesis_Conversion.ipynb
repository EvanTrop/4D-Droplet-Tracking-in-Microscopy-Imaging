{
  "nbformat": 4,
  "nbformat_minor": 0,
  "metadata": {
    "colab": {
      "name": "Image_Synthesis_Conversion.ipynb",
      "provenance": [],
      "collapsed_sections": []
    },
    "kernelspec": {
      "name": "python3",
      "display_name": "Python 3"
    },
    "language_info": {
      "name": "python"
    }
  },
  "cells": [
    {
      "cell_type": "code",
      "execution_count": 8,
      "metadata": {
        "colab": {
          "base_uri": "https://localhost:8080/"
        },
        "id": "8Wf1Z4VFd9-O",
        "outputId": "ca51ac60-a78e-448c-b55a-4432460859a5"
      },
      "outputs": [
        {
          "output_type": "stream",
          "name": "stdout",
          "text": [
            "Mounted at /content/gdrive\n"
          ]
        }
      ],
      "source": [
        "from google.colab import drive \n",
        "drive.mount('/content/gdrive')"
      ]
    },
    {
      "cell_type": "code",
      "source": [
        "import numpy as np\n",
        "from google.colab.patches import cv2_imshow\n",
        "from numpy.core.fromnumeric import prod\n",
        "import cv2\n",
        "import os"
      ],
      "metadata": {
        "id": "R2BCs1iIegVb"
      },
      "execution_count": 9,
      "outputs": []
    },
    {
      "cell_type": "code",
      "source": [
        "#Move to the notebook working directory\n",
        "%cd /content/gdrive/MyDrive/Bioimage Informatics\n",
        "\n",
        "#Make directories for training and test data from domain A (real data) and domain B(synthetic data)\n",
        "%mkdir -p Image\\ Synthesis/trainA\n",
        "%mkdir -p Image\\ Synthesis/trainB\n",
        "\n",
        "%mkdir -p Image\\ Synthesis/testA\n",
        "%mkdir -p Image\\ Synthesis/testB"
      ],
      "metadata": {
        "colab": {
          "base_uri": "https://localhost:8080/"
        },
        "id": "U1f6LK-wkF2L",
        "outputId": "7ab58003-72ae-42c3-8c16-9788e7e84a31"
      },
      "execution_count": 10,
      "outputs": [
        {
          "output_type": "stream",
          "name": "stdout",
          "text": [
            "/content/gdrive/.shortcut-targets-by-id/1KBLLeRYGQsIfkELFrExLiWHh1WVbHC7P/Bioimage Informatics\n"
          ]
        }
      ]
    },
    {
      "cell_type": "markdown",
      "source": [
        "## Generating Syntethic Data"
      ],
      "metadata": {
        "id": "kzp7XBJDWWYJ"
      }
    },
    {
      "cell_type": "code",
      "source": [
        "#obtained from the .nd2 image meta data\n",
        "pixW = 474\n",
        "pixH = 474\n",
        "pixelSize = 0.1066667 #microns\n",
        "\n",
        "np.random.seed(42)"
      ],
      "metadata": {
        "id": "Fc4uO3Tceij4"
      },
      "execution_count": 11,
      "outputs": []
    },
    {
      "cell_type": "markdown",
      "source": [
        "##Helper Functions"
      ],
      "metadata": {
        "id": "igcq28qCaDgB"
      }
    },
    {
      "cell_type": "code",
      "source": [
        "def initialize_parameters():\n",
        "  #https://www.ncbi.nlm.nih.gov/pmc/articles/PMC4227890/#:~:text=We%20determined%20the%20nuclear%20dimensions,height%20(n%20%3D%2060).\n",
        "  #Used above reference for the nucleus axes mean/std\n",
        "  nucAx1 = (16,2) #mean,std - microns\n",
        "  nucAx2 = (23,3) #mean,std - microns\n",
        "\n",
        "\n",
        "  nucParams = np.array([nucAx1,nucAx2])\n",
        "\n",
        "  #Values from 'descriptions.csv' Will sent me \n",
        "  dropletParams = [[77.47,21.19]] #mean, std - #of droplets\n",
        "\n",
        "\n",
        "  meanVolume = 0.210997691088744 #um^3\n",
        "  stdVolume = 0.0763824501005185 #um^3\n",
        "\n",
        "  #Assume sphereical droplets so V = (4/3) * pi * r^3\n",
        "  dropRadiusMean = (meanVolume * (3/(4 * np.pi)) )**(1/3) *(2/3)\n",
        "  dropRadiStd = (stdVolume * (3/(4 * np.pi)) )**(1/3) *(2/3)\n",
        "\n",
        "\n",
        "  dropletParams.append([dropRadiusMean,dropRadiStd])\n",
        "  dropletParams = np.array(dropletParams)\n",
        "\n",
        "  return dropletParams, nucParams\n",
        "\n",
        "\n",
        "#Convert the parameters whose units are in um to pixels\n",
        "def convert_um_to_pixels(arr,pixelSize):\n",
        "    return (arr/pixelSize).astype(int)\n",
        "\n",
        "\n",
        "def save_generated_images(imgList,outPath):\n",
        "  for i,img in enumerate(imgList):\n",
        "  \n",
        "    #obtain the correct file label\n",
        "      label = str(i)\n",
        "      if len(str(i)) == 1:\n",
        "          label = '00' + label\n",
        "      elif len(str(i)) == 2:\n",
        "          label = '0' + label\n",
        "      cv2.imwrite(outPath + f\"synth_{i}.jpg\",img)\n",
        "\n",
        "#Add gaussian noise\n",
        "def add_image_noise(img):\n",
        "  scalingFactor = 10\n",
        "  noise = np.random.normal(size = prod(img.shape)) * scalingFactor\n",
        "  noise = noise.reshape(img.shape)\n",
        "  img = img + noise\n",
        "\n",
        "  return img"
      ],
      "metadata": {
        "id": "fwB4hOB7sUxm"
      },
      "execution_count": 12,
      "outputs": []
    },
    {
      "cell_type": "markdown",
      "source": [
        "Domain Randomization <br>\n",
        "-Number of droplets sampled within the ellipse uniformly from 0 - mean + std*3 <br>\n",
        "-Bounding box axes sampled randomly from uniform  larger variance?\n"
      ],
      "metadata": {
        "id": "yuXuLKU57haT"
      }
    },
    {
      "cell_type": "code",
      "source": [
        "def domain_randomize(dropletParams,nucParams):\n",
        "    dropletParams[0] = ([np.random.randint(0,141),0]) #Sample uniformly from 0 - 3*std of number of droplets\n",
        "\n",
        "    nucParams[0] = np.array([12,20])\n",
        "    nucParams[1] = np.array([17,29])\n",
        "\n",
        "    ax1 = np.random.uniform(nucParams[0][0],nucParams[0][1])\n",
        "    ax2 = np.random.uniform(nucParams[1][0],nucParams[1][1])\n",
        "\n",
        "\n",
        "    return dropletParams, np.array([ax1,ax2])"
      ],
      "metadata": {
        "id": "_s8R1hoR_nst"
      },
      "execution_count": 13,
      "outputs": []
    },
    {
      "cell_type": "markdown",
      "source": [
        "## Bezier Code"
      ],
      "metadata": {
        "id": "ijHTrFSyTwex"
      }
    },
    {
      "cell_type": "code",
      "source": [
        "from PIL import Image, ImageDraw\n",
        "import numpy as np\n",
        "from scipy.special import binom\n",
        "import matplotlib.pyplot as plt\n",
        "\n",
        "\n",
        "bernstein = lambda n, k, t: binom(n,k)* t**k * (1.-t)**(n-k)\n",
        "\n",
        "def bezier(points, num=200):\n",
        "    N = len(points)\n",
        "    t = np.linspace(0, 1, num=num)\n",
        "    curve = np.zeros((num, 2))\n",
        "    for i in range(N):\n",
        "        curve += np.outer(bernstein(N - 1, i, t), points[i])\n",
        "    return curve\n",
        "\n",
        "class Segment():\n",
        "    def __init__(self, p1, p2, angle1, angle2, **kw):\n",
        "        self.p1 = p1; self.p2 = p2\n",
        "        self.angle1 = angle1; self.angle2 = angle2\n",
        "        self.numpoints = kw.get(\"numpoints\", 100)\n",
        "        r = kw.get(\"r\", 0.3)\n",
        "        d = np.sqrt(np.sum((self.p2-self.p1)**2))\n",
        "        self.r = r*d\n",
        "        self.p = np.zeros((4,2))\n",
        "        self.p[0,:] = self.p1[:]\n",
        "        self.p[3,:] = self.p2[:]\n",
        "        self.calc_intermediate_points(self.r)\n",
        "\n",
        "    def calc_intermediate_points(self,r):\n",
        "        self.p[1,:] = self.p1 + np.array([self.r*np.cos(self.angle1),\n",
        "                                    self.r*np.sin(self.angle1)])\n",
        "        self.p[2,:] = self.p2 + np.array([self.r*np.cos(self.angle2+np.pi),\n",
        "                                    self.r*np.sin(self.angle2+np.pi)])\n",
        "        self.curve = bezier(self.p,self.numpoints)\n",
        "\n",
        "\n",
        "def get_curve(points, **kw):\n",
        "    segments = []\n",
        "    for i in range(len(points)-1):\n",
        "        seg = Segment(points[i,:2], points[i+1,:2], points[i,2],points[i+1,2],**kw)\n",
        "        segments.append(seg)\n",
        "    curve = np.concatenate([s.curve for s in segments])\n",
        "    return segments, curve\n",
        "\n",
        "def ccw_sort(p):\n",
        "    d = p-np.mean(p,axis=0)\n",
        "    s = np.arctan2(d[:,0], d[:,1])\n",
        "    return p[np.argsort(s),:]\n",
        "\n",
        "def get_bezier_curve(a, rad=0.2, edgy=0):\n",
        "    \"\"\" given an array of points *a*, create a curve through\n",
        "    those points. \n",
        "    *rad* is a number between 0 and 1 to steer the distance of\n",
        "          control points.\n",
        "    *edgy* is a parameter which controls how \"edgy\" the curve is,\n",
        "           edgy=0 is smoothest.\"\"\"\n",
        "    p = np.arctan(edgy)/np.pi+.5\n",
        "    a = ccw_sort(a)\n",
        "    a = np.append(a, np.atleast_2d(a[0,:]), axis=0)\n",
        "    d = np.diff(a, axis=0)\n",
        "    ang = np.arctan2(d[:,1],d[:,0])\n",
        "    f = lambda ang : (ang>=0)*ang + (ang<0)*(ang+2*np.pi)\n",
        "    ang = f(ang)\n",
        "    ang1 = ang\n",
        "    ang2 = np.roll(ang,1)\n",
        "    ang = p*ang1 + (1-p)*ang2 + (np.abs(ang2-ang1) > np.pi )*np.pi\n",
        "    ang = np.append(ang, [ang[0]])\n",
        "    a = np.append(a, np.atleast_2d(ang).T, axis=1)\n",
        "    s, c = get_curve(a, r=rad, method=\"var\")\n",
        "    x,y = c.T\n",
        "    return x,y, a\n",
        "\n",
        "def get_random_points(points,n=4, scale=1, mindst=None, rec=0):\n",
        "    \"\"\" create n random points in the unit square, which are *mindst*\n",
        "    apart, then scale them.\"\"\"\n",
        "    mindst = mindst #or .7/n\n",
        "\n",
        "    idxs = np.random.choice(np.arange(0,len(points)),size = n , replace= False)\n",
        "    a = points[idxs]\n",
        "\n",
        "    d = np.sqrt(np.sum(np.diff(ccw_sort(a), axis=0), axis=1)**2)\n",
        "    if np.all(d >= mindst) or rec>=200:\n",
        "        return a*scale , d\n",
        "    else:\n",
        "        return get_random_points(points,n=n, scale=scale, mindst=mindst, rec=rec+1)"
      ],
      "metadata": {
        "id": "k7I34LPb2bKA"
      },
      "execution_count": 14,
      "outputs": []
    },
    {
      "cell_type": "markdown",
      "source": [
        "## Nucleus Generation "
      ],
      "metadata": {
        "id": "hBQmVeycsCDn"
      }
    },
    {
      "cell_type": "code",
      "source": [
        "def sample_nucleus_points_new(padding,shape,axes,img):\n",
        "    \n",
        "    ax1 , ax2 = axes\n",
        "    angle = int(np.random.rand() * 180)\n",
        "\n",
        "    #Caclulate diagonal length\n",
        "    h = ((ax1/2)**2 + (ax2/2)**2)**.5\n",
        "\n",
        "    #x and y distance to the 4 corners of the bounding box based on angle\n",
        "    theta = np.arctan((ax1/2)/(ax2/2))\n",
        "\n",
        "    ybound = int(abs(h * np.cos(angle/180 * np.pi + theta)))\n",
        "    xbound = int(abs(h * np.sin(angle/180 * np.pi + theta)))\n",
        "\n",
        "    # #Sample the bounding box center from the allowable region based off of (bounds,ax1,ax2,angle)\n",
        "    while True:\n",
        "      xC = np.random.randint(0,shape[0] - 2*padding - 2*xbound) + padding + xbound\n",
        "      yC = np.random.randint(0,shape[1] - 2*padding - 2*ybound) + padding + ybound\n",
        "\n",
        "      bounds = np.zeros((shape[0] ,shape[1]))\n",
        "      rect = ((xC,yC),(ax1,ax2),angle)\n",
        "\n",
        "      corners = cv2.boxPoints(rect)\n",
        "      corners = np.int0(corners) \n",
        "      cv2.drawContours(bounds,[corners],-1,(255),thickness = -1)\n",
        "    \n",
        "      boundingRectangle = np.where(bounds == 255)\n",
        "      boundRec_idxs = np.array(list((zip(boundingRectangle[0],boundingRectangle[1]))))\n",
        "\n",
        "      if len(boundRec_idxs) > 0:\n",
        "        break\n",
        "\n",
        "    \n",
        "    #Get list of points from each corner based on some min separation between points \n",
        "    sector = [[True,True],[True,False],[False,False],[False,True]]\n",
        "    mindist = min(ax1,ax2) * .4\n",
        "    randPoints = []\n",
        "\n",
        "\n",
        "    for sec in sector:\n",
        "      #positive x\n",
        "      if sec[0]:\n",
        "        xc = int(ax1/4 + mindist /4)\n",
        "      #neg x\n",
        "      elif not sec[0]:\n",
        "        xc = int( - ax1/4 - mindist /4)\n",
        "      #positive y\n",
        "      if sec[1]:\n",
        "        yc = int(- ax2/4 - mindist /4)\n",
        "      #neg y\n",
        "      elif not sec[1]:\n",
        "        yc = int(ax2/4 + mindist /4)\n",
        "\n",
        "      \n",
        "      xcR = xc*np.cos(angle/180 * np.pi) - yc * np.sin(angle/180 * np.pi) + xC\n",
        "      ycR = xc * np.sin(angle/180 * np.pi) + yc * np.cos(angle/180 * np.pi) + yC\n",
        "\n",
        "      bounds = np.zeros((shape[0] ,shape[1]))\n",
        "      rect = ((xcR,ycR),(ax1/2 - mindist/2,ax2/2 - mindist/2),angle)\n",
        "      corners = cv2.boxPoints(rect)\n",
        "      corners = np.int0(corners) \n",
        "      cv2.drawContours(bounds,[corners],-1,(255),thickness = -1)\n",
        "\n",
        "      boundingRectangle = np.where(bounds == 255)\n",
        "      boundingRectangle = np.array(list((zip(boundingRectangle[0],boundingRectangle[1]))))\n",
        "      randPoints.append(boundingRectangle[np.random.choice(len(boundingRectangle),size = 1)])\n",
        "\n",
        "    randPoints = np.array(randPoints).reshape(4,2)\n",
        "\n",
        "    #Parameters for generating bezier curves\n",
        "    rad = .5\n",
        "    edgy = 0\n",
        "    \n",
        "    #Connect the random points using bezier curves \n",
        "    x,y,_ = get_bezier_curve(randPoints,rad=rad, edgy=edgy) \n",
        "\n",
        "    #Return the x and y lists of the points lying inside the nucleus\n",
        "    return x,y"
      ],
      "metadata": {
        "id": "Q0_xkYM3blgq"
      },
      "execution_count": 15,
      "outputs": []
    },
    {
      "cell_type": "code",
      "source": [
        "def generate_droplet_image_bezier(img,axes, dropletParams,padding = 0):\n",
        "    \n",
        "    shape = img.shape\n",
        "\n",
        "    #Sample number of droplets and radius for each droplet\n",
        "    meanNumdrops, stdNumdrops = dropletParams[0]\n",
        "    meanDropRad, stdDropRad = dropletParams[1]\n",
        "    numDrops = int(np.random.normal(loc = meanNumdrops, scale = stdNumdrops))\n",
        "    dropletRadii = np.random.normal(loc = meanDropRad, scale = stdDropRad, size = numDrops).astype(int)\n",
        "\n",
        "    #Check for negative or zero radius values and replace with radius of 1\n",
        "    dropletRadii = np.where(dropletRadii <= 0, 1, dropletRadii)\n",
        "\n",
        "    #Some boarder width to exclude to ensure droplets fully in frame \n",
        "    # boarderWidth = meanDropRad * 2 + stdDropRad * 2 , currently being handled by padding arguement \n",
        "\n",
        "    #Generate nucleus attributes, where padding provides the allowable subwindow, \n",
        "    x,y = sample_nucleus_points_new(padding,shape,axes,img)\n",
        "    \n",
        "    #Draw the nucleus perimeter and fill the interior area, then find indices\n",
        "    temp = Image.new('L', (pixH, pixW), 0)\n",
        "    ImageDraw.Draw(temp).polygon(list(zip(x,y)), outline=1, fill=255)\n",
        "    temp = np.array(temp)\n",
        "\n",
        "    # cv2_imshow(temp)\n",
        "    nucleusPoints = np.where(temp == 255)\n",
        "\n",
        "    #Create a list of tuples that represent all of the matrix indices defined by the generated nucleus,\n",
        "    nucleusPoints = list((zip(nucleusPoints[0],nucleusPoints[1]))) #also swap x and y b/c of opencv\n",
        "    numPoints = len(nucleusPoints)\n",
        "\n",
        "    dropletCenters = []\n",
        "    areaConsumed = 0\n",
        "    created = 0\n",
        "\n",
        "    #droplet padding for the check for collisions\n",
        "    dp = 1\n",
        "\n",
        "    #Create the droplets in the input image\n",
        "    for i in range(0,numDrops):\n",
        "      attempts = 0\n",
        "      \n",
        "      #Density check\n",
        "      if areaConsumed < .15 * numPoints:\n",
        "\n",
        "        #Create first droplet\n",
        "        if i == 0:\n",
        "          c = nucleusPoints[np.random.randint(0,numPoints)]\n",
        "          r = dropletRadii[i]\n",
        "\n",
        "          dropletCenters.append(c)\n",
        "          cv2.circle(img,c,r,255,thickness = -1)\n",
        "\n",
        "        #Create all other droplet ensuring no collisions\n",
        "        else:\n",
        "\n",
        "          while attempts < 100: #while the number of attempts is less than 50% of the number of possible droplet centers, this represents some sort of pseudo density threshold\n",
        "            c = nucleusPoints[np.random.randint(0,numPoints)]\n",
        "            r = dropletRadii[i]\n",
        "\n",
        "            #Detect Collisions and resample new center point\n",
        "\n",
        "            if np.any(img[c[1] - r - dp:c[1]+r +dp,c[0] - r - dp:c[0] + r + dp] == 255) == False:\n",
        "\n",
        "                dropletCenters.append(c)\n",
        "                cv2.circle(img,c,r,255,thickness = -1)\n",
        "                created += 1\n",
        "                areaConsumed += r **2 * np.pi\n",
        "                break\n",
        "            \n",
        "            attempts += 1\n",
        "      else:\n",
        "        break\n",
        "        \n",
        "    return dropletCenters"
      ],
      "metadata": {
        "id": "jXfLIpFgwRLG"
      },
      "execution_count": 16,
      "outputs": []
    },
    {
      "cell_type": "code",
      "source": [
        "def generate_synthetic_dataset_new(numImages,imgShape,padding = 50):\n",
        "    images = []\n",
        "    \n",
        "    for i in range(numImages):\n",
        "\n",
        "      #set the droplet params,nucleus params\n",
        "      dropletParams, nucParams = initialize_parameters()\n",
        "\n",
        "      #Set image to defined size and initialize pixel values so that background is assumed \n",
        "      # to be black --> 0\n",
        "      img = np.zeros((imgShape + (1,)))  \n",
        "\n",
        "      #randomize the number of droplets, nucleus axes\n",
        "      dP , aX = domain_randomize(dropletParams,nucParams)\n",
        "      \n",
        "      #convert params and axes from um to pixels\n",
        "      dP[1] = convert_um_to_pixels(dP[1],pixelSize)\n",
        "      aX = convert_um_to_pixels(aX,pixelSize)\n",
        "      \n",
        "      #Create droplets\n",
        "      generate_droplet_image_bezier(img,axes,dropletParams,padding)\n",
        "     \n",
        "      #Add Gaussian Blur\n",
        "      img = cv2.GaussianBlur(img,(3,3),0)\n",
        "\n",
        "      images.append(img)\n",
        "\n",
        "    return np.array(images)"
      ],
      "metadata": {
        "id": "d42K1uQ0pt54"
      },
      "execution_count": 17,
      "outputs": []
    },
    {
      "cell_type": "markdown",
      "source": [
        "Generating synthetic data set for Cycle GAN training"
      ],
      "metadata": {
        "id": "SJqzFGf6WzTH"
      }
    },
    {
      "cell_type": "code",
      "source": [
        "synthData = generate_synthetic_dataset_new(201,(pixW,pixH),padding = 50)\n",
        "save_generated_images(synthData,'Image Synthesis/trainB/')"
      ],
      "metadata": {
        "id": "q7IxCIDRqrG6"
      },
      "execution_count": null,
      "outputs": []
    },
    {
      "cell_type": "code",
      "source": [
        "#set the droplet params,nucleus params\n",
        "dropletParams, nucParams = initialize_parameters()\n",
        "\n",
        "#randomize the number of droplets, size of nucleus\n",
        "dropletParams , axes = domain_randomize(dropletParams,nucParams)\n",
        "print(\"before conversion\")\n",
        "print(dropletParams)\n",
        "print(axes)\n",
        "print()\n",
        "\n",
        "dropletParams[1] = convert_um_to_pixels(dropletParams[1],pixelSize)\n",
        "axes = convert_um_to_pixels(axes,pixelSize)\n",
        "print(\"After conversion\")\n",
        "print(dropletParams)\n",
        "print(axes)\n",
        "print()"
      ],
      "metadata": {
        "id": "DkpId8XLxYvy",
        "colab": {
          "base_uri": "https://localhost:8080/"
        },
        "outputId": "9fbda666-e534-4fab-d4a4-016035c5aec5"
      },
      "execution_count": 18,
      "outputs": [
        {
          "output_type": "stream",
          "name": "stdout",
          "text": [
            "before conversion\n",
            "[[102.           0.        ]\n",
            " [  0.24620967   0.17547304]]\n",
            "[18.37234389 19.20121748]\n",
            "\n",
            "After conversion\n",
            "[[102.   0.]\n",
            " [  2.   1.]]\n",
            "[172 180]\n",
            "\n"
          ]
        }
      ]
    },
    {
      "cell_type": "markdown",
      "source": [
        "## Testing Area"
      ],
      "metadata": {
        "id": "NOH0_pLZ-iLN"
      }
    },
    {
      "cell_type": "code",
      "source": [
        "img = np.zeros((pixW,pixH))\n",
        "dropletParams, nucParams = initialize_parameters()\n",
        "dP , aX = domain_randomize(dropletParams,nucParams)\n",
        "\n",
        "aX = convert_um_to_pixels(aX,pixelSize)\n",
        "\n",
        "dropletParams[1] = convert_um_to_pixels(dropletParams[1],pixelSize)\n",
        "\n",
        "print(\"Number of droplets:\",dP[0])\n",
        "print('Radius mean and var in pixels:',dP[1])\n",
        "print(\"Minor and Major axes:\",aX)\n",
        "generate_droplet_image_bezier(img,aX,dP,padding = 60)\n",
        "\n",
        "img = cv2.GaussianBlur(img,(3,3),0)\n",
        "cv2_imshow(img)"
      ],
      "metadata": {
        "colab": {
          "base_uri": "https://localhost:8080/",
          "height": 545
        },
        "id": "mQph8u4Kvz4i",
        "outputId": "66c2992d-0ea7-4024-a8ca-76873b7e6119"
      },
      "execution_count": 19,
      "outputs": [
        {
          "output_type": "stream",
          "name": "stdout",
          "text": [
            "Number of droplets: [71.  0.]\n",
            "Radius mean and var in pixels: [2. 1.]\n",
            "Minor and Major axes: [157 176]\n"
          ]
        },
        {
          "output_type": "display_data",
          "data": {
            "text/plain": [
              "<PIL.Image.Image image mode=L size=474x474 at 0x7FE986D6E6D0>"
            ],
            "image/png": "[encoded data removed]"
          },
          "metadata": {}
        }
      ]
    },
    {
      "cell_type": "markdown",
      "source": [
        "## Reading in Real Data\n",
        "1.Read in the .nd2 files for each cell <br>\n",
        "2.Select appropriate channel <br>\n",
        "3.Obtain the max intensity from the z-stack and convert to 0-255 range <br>\n",
        "4.Write to .jpeg  <br>"
      ],
      "metadata": {
        "id": "wz7wgI8dZZNI"
      }
    },
    {
      "cell_type": "code",
      "source": [
        "!pip install pims_nd2\n",
        "import pims_nd2 as nd2\n",
        "import os"
      ],
      "metadata": {
        "id": "6Zk8lg_SfxSt",
        "colab": {
          "base_uri": "https://localhost:8080/"
        },
        "outputId": "8f176eb0-3448-4c47-bab3-0ae016c848d9"
      },
      "execution_count": 20,
      "outputs": [
        {
          "output_type": "stream",
          "name": "stdout",
          "text": [
            "Collecting pims_nd2\n",
            "  Downloading pims_nd2-1.1.tar.gz (19.7 MB)\n",
            "\u001b[K     |████████████████████████████████| 19.7 MB 1.1 MB/s \n",
            "\u001b[?25hCollecting pims>=0.3\n",
            "  Downloading PIMS-0.6.0-py3-none-any.whl (82 kB)\n",
            "\u001b[K     |████████████████████████████████| 82 kB 673 kB/s \n",
            "\u001b[?25hRequirement already satisfied: imageio in /usr/local/lib/python3.7/dist-packages (from pims>=0.3->pims_nd2) (2.4.1)\n",
            "Collecting slicerator>=0.9.8\n",
            "  Downloading slicerator-1.1.0-py3-none-any.whl (10 kB)\n",
            "Requirement already satisfied: numpy>=1.19 in /usr/local/lib/python3.7/dist-packages (from pims>=0.3->pims_nd2) (1.21.6)\n",
            "Requirement already satisfied: pillow in /usr/local/lib/python3.7/dist-packages (from imageio->pims>=0.3->pims_nd2) (7.1.2)\n",
            "Building wheels for collected packages: pims-nd2\n",
            "  Building wheel for pims-nd2 (setup.py) ... \u001b[?25l\u001b[?25hdone\n",
            "  Created wheel for pims-nd2: filename=pims_nd2-1.1-py3-none-any.whl size=19778399 sha256=92b7b431f3c4257741d031c381707d3cda7a6039beef060e0d2e90b0d3c22492\n",
            "  Stored in directory: /root/.cache/pip/wheels/c4/5f/6a/c499ced897d109e21381e12a7acea883ea18fb0001434c0545\n",
            "Successfully built pims-nd2\n",
            "Installing collected packages: slicerator, pims, pims-nd2\n",
            "Successfully installed pims-0.6.0 pims-nd2-1.1 slicerator-1.1.0\n",
            "Imageio: 'ffmpeg-linux64-v3.3.1' was not found on your computer; downloading it now.\n",
            "Try 1. Download from https://github.com/imageio/imageio-binaries/raw/master/ffmpeg/ffmpeg-linux64-v3.3.1 (43.8 MB)\n",
            "Downloading: 8192/45929032 bytes (0.0%)\b\b\b\b\b\b\b\b\b\b\b\b\b\b\b\b\b\b\b\b\b\b\b\b\b\b2777088/45929032 bytes (6.0%)\b\b\b\b\b\b\b\b\b\b\b\b\b\b\b\b\b\b\b\b\b\b\b\b\b\b\b\b\b5603328/45929032 bytes (12.2%)\b\b\b\b\b\b\b\b\b\b\b\b\b\b\b\b\b\b\b\b\b\b\b\b\b\b\b\b\b\b8265728/45929032 bytes (18.0%)\b\b\b\b\b\b\b\b\b\b\b\b\b\b\b\b\b\b\b\b\b\b\b\b\b\b\b\b\b\b11460608/45929032 bytes (25.0%)\b\b\b\b\b\b\b\b\b\b\b\b\b\b\b\b\b\b\b\b\b\b\b\b\b\b\b\b\b\b\b14483456/45929032 bytes (31.5%)\b\b\b\b\b\b\b\b\b\b\b\b\b\b\b\b\b\b\b\b\b\b\b\b\b\b\b\b\b\b\b17612800/45929032 bytes (38.3%)\b\b\b\b\b\b\b\b\b\b\b\b\b\b\b\b\b\b\b\b\b\b\b\b\b\b\b\b\b\b\b20602880/45929032 bytes (44.9%)\b\b\b\b\b\b\b\b\b\b\b\b\b\b\b\b\b\b\b\b\b\b\b\b\b\b\b\b\b\b\b23576576/45929032 bytes (51.3%)\b\b\b\b\b\b\b\b\b\b\b\b\b\b\b\b\b\b\b\b\b\b\b\b\b\b\b\b\b\b\b26533888/45929032 bytes (57.8%)\b\b\b\b\b\b\b\b\b\b\b\b\b\b\b\b\b\b\b\b\b\b\b\b\b\b\b\b\b\b\b29442048/45929032 bytes (64.1%)\b\b\b\b\b\b\b\b\b\b\b\b\b\b\b\b\b\b\b\b\b\b\b\b\b\b\b\b\b\b\b32514048/45929032 bytes (70.8%)\b\b\b\b\b\b\b\b\b\b\b\b\b\b\b\b\b\b\b\b\b\b\b\b\b\b\b\b\b\b\b35504128/45929032 bytes (77.3%)\b\b\b\b\b\b\b\b\b\b\b\b\b\b\b\b\b\b\b\b\b\b\b\b\b\b\b\b\b\b\b38379520/45929032 bytes (83.6%)\b\b\b\b\b\b\b\b\b\b\b\b\b\b\b\b\b\b\b\b\b\b\b\b\b\b\b\b\b\b\b41484288/45929032 bytes (90.3%)\b\b\b\b\b\b\b\b\b\b\b\b\b\b\b\b\b\b\b\b\b\b\b\b\b\b\b\b\b\b\b43819008/45929032 bytes (95.4%)\b\b\b\b\b\b\b\b\b\b\b\b\b\b\b\b\b\b\b\b\b\b\b\b\b\b\b\b\b\b\b45929032/45929032 bytes (100.0%)\n",
            "  Done\n",
            "File saved as /root/.imageio/ffmpeg/ffmpeg-linux64-v3.3.1.\n"
          ]
        }
      ]
    },
    {
      "cell_type": "code",
      "source": [
        "realDatapath = '2022.01.31_Fixed Images/'\n",
        "baseFilename = 'p88 TFH 5hr '\n",
        "numFiles = len(os.listdir(realDatapath))"
      ],
      "metadata": {
        "id": "oczVSBtHaQj2"
      },
      "execution_count": null,
      "outputs": []
    },
    {
      "cell_type": "code",
      "source": [
        "#Iterate over every file in the specified directory\n",
        "def read_nd2_to_jpg(path,filename,numFiles,outputpath,outname,chan):\n",
        "\n",
        "    for i in range(1, numFiles + 1):\n",
        "        #obtain the correct file label\n",
        "        label = str(i)\n",
        "        if len(str(i)) == 1:\n",
        "            label = '00' + label\n",
        "        elif len(str(i)) == 2:\n",
        "            label = '0' + label\n",
        "\n",
        "        img = nd2.ND2_Reader(path + filename + label + '.nd2' )\n",
        "        img.bundle_axes = 'czyx'\n",
        "\n",
        "        #Select channel, collapse z axis, convert intensity to 0-255 range\n",
        "        channel = np.max(img[0][chan],axis = 0)\n",
        "        diff = np.max(channel) - np.min(channel)\n",
        "        channel = ((channel - np.min(channel))/diff * 255).astype(np.uint8)\n",
        "        \n",
        "        #Write images as jpg to outputpath folder\n",
        "        cv2.imwrite(outputpath + outname  + f'{label}.jpg',channel)\n",
        "\n",
        "        # #close reader\n",
        "        img.close()\n",
        "    \n",
        "    print(\".nd2 images converted to jpg and saved\")"
      ],
      "metadata": {
        "id": "KmJGDzV1wNG8"
      },
      "execution_count": null,
      "outputs": []
    },
    {
      "cell_type": "code",
      "source": [
        "read_nd2_to_jpg(realDatapath,baseFilename,5,\"Image Synthesis/testA\",\"real_\",0)"
      ],
      "metadata": {
        "id": "9_yks4GAX5T7"
      },
      "execution_count": null,
      "outputs": []
    },
    {
      "cell_type": "markdown",
      "source": [
        "Reading .nd2 images to jpg from GFP/mCherry channel 0/2 for training"
      ],
      "metadata": {
        "id": "IQFfTUFR2kI5"
      }
    },
    {
      "cell_type": "code",
      "source": [
        "#GFP channel\n",
        "channel = 0\n",
        "read_nd2_to_jpg(realDatapath,baseFilename,numFiles,\"Image Synthesis/trainA/\",\"channel_0_\",channel)\n",
        "\n",
        "#mCherry channel\n",
        "# channel = 2\n",
        "# read_nd2_to_jpg(realDatapath,baseFilename,66,\"Image Synthesis/trainA/\",\"channel_2_\",channel)\n"
      ],
      "metadata": {
        "id": "lBirhMGfoUD5"
      },
      "execution_count": null,
      "outputs": []
    },
    {
      "cell_type": "markdown",
      "source": [
        "## Reading in Annotated Images as Test Data\n",
        "Needed different code then reading in training data since it was time series of a single cell"
      ],
      "metadata": {
        "id": "vfx__cGslDXx"
      }
    },
    {
      "cell_type": "code",
      "source": [
        "path = '2022.01.24 - Experimental Data with Manual Results/'\n",
        "baseFilename = 'p88 TFH.nd2'\n",
        "numFiles = 1\n",
        "\n",
        "outpath = '/content/gdrive/MyDrive/Bioimage Informatics/Image Synthesis/test_general/'\n",
        "outname = 'test_'"
      ],
      "metadata": {
        "id": "5QzsSeg0l2wi"
      },
      "execution_count": null,
      "outputs": []
    },
    {
      "cell_type": "code",
      "source": [
        "reader = nd2.ND2_Reader('/content/gdrive/MyDrive/Bioimage Informatics/2022.01.24 - Experimental Data with Manual Results/p88 TFH.nd2' )\n",
        "reader.bundle_axes\n",
        "with nd2.ND2_Reader('/content/gdrive/MyDrive/Bioimage Informatics/2022.01.24 - Experimental Data with Manual Results/p88 TFH.nd2') as reader:\n",
        "  \n",
        "  for chan in range(reader.sizes['c']):\n",
        "    i = 0\n",
        "    for frame in reader:\n",
        "      #Select channel, collapse z axis, convert intensity to 0-255 range\n",
        "          proj = np.max(frame,axis = 0)\n",
        "          diff = np.max(proj) - np.min(proj)\n",
        "          proj = ((proj - np.min(proj))/diff * 255).astype(np.uint8)\n",
        "\n",
        "          #Write images as jpg to outputpath folder\n",
        "          if chan == 0:\n",
        "            cv2.imwrite(outpath + 'GFP/' + outname  + f'c{chan}_t{i}.jpg',proj)\n",
        "          elif chan == 1:\n",
        "            cv2.imwrite(outpath + 'mCherry/' + outname  + f'c{chan}_t{i}.jpg',proj)\n",
        "\n",
        "          i += 1"
      ],
      "metadata": {
        "colab": {
          "base_uri": "https://localhost:8080/"
        },
        "id": "Qk4Iz6-HQzzc",
        "outputId": "8c8443e9-a254-4a81-a6a9-2c8d9b924a8c"
      },
      "execution_count": null,
      "outputs": [
        {
          "output_type": "stream",
          "name": "stderr",
          "text": [
            "/usr/local/lib/python3.7/dist-packages/pims/base_frames.py:472: UserWarning: Please call FramesSequenceND.__init__() at the start of thethe reader initialization.\n",
            "  warn(\"Please call FramesSequenceND.__init__() at the start of the\"\n"
          ]
        }
      ]
    },
    {
      "cell_type": "markdown",
      "source": [
        "## Droplet Counting Using Connected Component Algorithm on Raw Images and Images Denoised/Enhanced using Traditional Methods"
      ],
      "metadata": {
        "id": "ArcBE9aN0s2p"
      }
    },
    {
      "cell_type": "code",
      "source": [
        "from cv2 import CV_16U, CV_32S, CV_8UC1,CC_STAT_AREA,connectedComponentsWithStats\n",
        "import numpy as np\n",
        "import pandas as pd\n",
        "# Files util\n",
        "import os\n",
        "import cv2\n",
        "from pathlib import Path\n",
        "import matplotlib.pyplot as plt"
      ],
      "metadata": {
        "id": "G_FD8Dhfjhwn"
      },
      "execution_count": 21,
      "outputs": []
    },
    {
      "cell_type": "code",
      "source": [
        "def file_index(names,chan):\n",
        "    index= []\n",
        "    for name in names:\n",
        "        k = int(name.split('.')[0].split('test_')[-1].split(f'c{chan}_t')[-1])\n",
        "        index.append(k)\n",
        "    return index\n",
        "\n",
        "def droplet_counting(dir,chan,processing = None):\n",
        "\n",
        "    dF = pd.read_csv('/content/gdrive/MyDrive/Bioimage Informatics/2022.01.24 - Experimental Data with Manual Results/data.csv',sep='\\t')\n",
        "    \n",
        "    tag = ''\n",
        "    if chan == 0:\n",
        "      tag = \"GFP\"\n",
        "    elif chan == 1:\n",
        "      tag = \"mCherry\"\n",
        "\n",
        "    qty_csv = dF[dF.Channel == tag].Qty.tolist()\n",
        "    ID_cdv = list(np.arange(0,len(qty_csv)))\n",
        "\n",
        "    fileNames = [f for f in os.listdir(dir) if os.path.isfile(os.path.join(dir, f))]\n",
        "    indices = file_index(fileNames,chan)\n",
        "\n",
        "    count =[]\n",
        "\n",
        "    for i,filename in enumerate(os.listdir(dir)):\n",
        "        f = os.path.join(dir, filename)\n",
        "        # checking if it is a file\n",
        "\n",
        "        cuurent_file = fileNames[i] \n",
        "        p = indices[i]\n",
        "        \n",
        "\n",
        "        if os.path.isfile(f):\n",
        "            \n",
        "            img = cv2.imread(f)\n",
        "            img = np.array(img) \n",
        "            img = np.max(img,axis=0)\n",
        "            diff = np.max(img) - np.min(img)\n",
        "            img = (img-np.min(img))/diff\n",
        "            img =(img * 255).astype(np.uint8)\n",
        "            \n",
        "            if processing == None:\n",
        "              test = img\n",
        "            elif processing == \"baseline\":\n",
        "              clahe = cv2.createCLAHE(clipLimit=2.0,tileGridSize=(10, 10))\n",
        "              test = clahe.apply(img)\n",
        "              test = 255 - img\n",
        "              test = cv2.fastNlMeansDenoising(test, None,5,11,21)\n",
        "              test = cv2.adaptiveThreshold(test, 255, cv2.ADAPTIVE_THRESH_GAUSSIAN_C , cv2.THRESH_BINARY_INV,11,21)\n",
        "            \n",
        "            num_labels, labels, stats, centroids = connectedComponentsWithStats(test, connectivity=8)\n",
        "\n",
        "\n",
        "            output = img.copy()\n",
        "            for j in range(1,num_labels):\n",
        "                x = stats[j,cv2.CC_STAT_LEFT]\n",
        "                y = stats[j,cv2.CC_STAT_TOP]\n",
        "                w = stats[j,cv2.CC_STAT_WIDTH]\n",
        "                h = stats[j,cv2.CC_STAT_HEIGHT]\n",
        "                area = stats[j,cv2.CC_STAT_AREA]\n",
        "                (cX, cY) = centroids[j]\n",
        "                    \n",
        "            output = cv2.rectangle(output, (x+2, y+2), (x+ w+2, y + h+2), (220, 20, 60), 1)   \n",
        "            count.append(num_labels-1)\n",
        "                \n",
        "          \n",
        "    print(\"CHANNEL\",chan)\n",
        "    dict1={}\n",
        "    dict1 = dict(zip(indices,count))\n",
        "    print(\"Calculated Droplet Counts\")\n",
        "    print(dict1)\n",
        "    tuple_1 = sorted(dict1.items(), key=lambda x: x[0])\n",
        "    x, y = zip(*tuple_1)\n",
        "    dict2={}\n",
        "    dict2 = dict(zip(ID_cdv,qty_csv))\n",
        "    print(\"Actual Values\")\n",
        "    print(dict2)\n",
        "    tuple_2 = sorted(dict2.items(), key=lambda x: x[0])\n",
        "    z,w = zip(*tuple_2)\n",
        "    \n",
        "    return (x,y),(z,w)"
      ],
      "metadata": {
        "id": "u-ozJa1niI-R"
      },
      "execution_count": 30,
      "outputs": []
    },
    {
      "cell_type": "code",
      "source": [
        "dir = '/content/gdrive/MyDrive/Bioimage Informatics/Image Synthesis/testA'\n",
        "rawInput, labels = droplet_counting(dir,1,processing = None)\n",
        "baseline, _ = droplet_counting(dir,1,processing = 'baseline')"
      ],
      "metadata": {
        "colab": {
          "base_uri": "https://localhost:8080/"
        },
        "id": "LPeuyQCLxr5G",
        "outputId": "6bcaa3a4-556a-415e-e37f-2b7f8530a5c9"
      },
      "execution_count": 33,
      "outputs": [
        {
          "output_type": "stream",
          "name": "stdout",
          "text": [
            "CHANNEL 1\n",
            "Calculated Droplet Counts\n",
            "{0: 3, 4: 2, 8: 3, 13: 4, 14: 2, 15: 2, 16: 3, 17: 2, 18: 4, 19: 4, 20: 2, 21: 2, 22: 2, 23: 2, 24: 1, 25: 2, 26: 3, 27: 3, 28: 2, 29: 3, 31: 2, 32: 1, 34: 1, 35: 2, 36: 3, 37: 3, 40: 2, 43: 2, 44: 4, 45: 2, 46: 4, 47: 3, 49: 5, 51: 5, 52: 4, 56: 7}\n",
            "Actual Values\n",
            "{0: 0, 1: 52, 2: 62, 3: 67, 4: 64, 5: 64, 6: 68, 7: 63, 8: 69, 9: 61, 10: 68, 11: 60, 12: 62, 13: 63, 14: 63, 15: 60, 16: 61, 17: 57, 18: 56, 19: 55, 20: 58, 21: 61, 22: 61, 23: 57, 24: 53, 25: 52, 26: 53, 27: 55, 28: 49, 29: 52, 30: 51, 31: 47, 32: 51, 33: 44, 34: 48, 35: 45, 36: 43, 37: 44, 38: 45, 39: 45, 40: 46, 41: 43, 42: 41, 43: 43, 44: 41, 45: 40, 46: 41, 47: 42, 48: 42, 49: 40, 50: 40, 51: 36, 52: 38, 53: 36, 54: 36, 55: 35, 56: 34, 57: 34, 58: 33, 59: 33}\n",
            "CHANNEL 1\n",
            "Calculated Droplet Counts\n",
            "{0: 12, 4: 14, 8: 15, 13: 16, 14: 16, 15: 12, 16: 12, 17: 13, 18: 15, 19: 16, 20: 16, 21: 14, 22: 15, 23: 14, 24: 14, 25: 14, 26: 16, 27: 16, 28: 15, 29: 15, 31: 16, 32: 16, 34: 15, 35: 16, 36: 16, 37: 14, 40: 16, 43: 12, 44: 15, 45: 14, 46: 14, 47: 12, 49: 13, 51: 15, 52: 12, 56: 14}\n",
            "Actual Values\n",
            "{0: 0, 1: 52, 2: 62, 3: 67, 4: 64, 5: 64, 6: 68, 7: 63, 8: 69, 9: 61, 10: 68, 11: 60, 12: 62, 13: 63, 14: 63, 15: 60, 16: 61, 17: 57, 18: 56, 19: 55, 20: 58, 21: 61, 22: 61, 23: 57, 24: 53, 25: 52, 26: 53, 27: 55, 28: 49, 29: 52, 30: 51, 31: 47, 32: 51, 33: 44, 34: 48, 35: 45, 36: 43, 37: 44, 38: 45, 39: 45, 40: 46, 41: 43, 42: 41, 43: 43, 44: 41, 45: 40, 46: 41, 47: 42, 48: 42, 49: 40, 50: 40, 51: 36, 52: 38, 53: 36, 54: 36, 55: 35, 56: 34, 57: 34, 58: 33, 59: 33}\n"
          ]
        }
      ]
    },
    {
      "cell_type": "markdown",
      "source": [
        "## Droplet Counting Using Connected Component Algorithm on Denoised/Enhanced Images from passing Raw Images through trained Cycle GAN model\n"
      ],
      "metadata": {
        "id": "3Ifr-0Pa2PiY"
      }
    },
    {
      "cell_type": "markdown",
      "source": [
        "mCherry"
      ],
      "metadata": {
        "id": "FD9IG8r65yjl"
      }
    },
    {
      "cell_type": "code",
      "source": [
        "epochs = 65\n",
        "epochs = str(epochs) + \" epochs\"\n",
        "exp = 'Evan_5_6_2_SSL'\n",
        "outfile = f'/content/gdrive/MyDrive/Bioimage Informatics/denoise_results/{exp}/' + f'{epochs}_{exp}.jpg'\n",
        "dir = f'/content/gdrive/MyDrive/Bioimage Informatics/denoise_results/{exp}/{epochs}/images'"
      ],
      "metadata": {
        "id": "wf4uaNFURrpM"
      },
      "execution_count": 34,
      "outputs": []
    },
    {
      "cell_type": "code",
      "source": [
        "def file_index(names,chan):\n",
        "    index= []\n",
        "    for name in names:\n",
        "        k = int(name.split('.')[0].split('test_')[-1].split(f'c{chan}_t')[-1].split(\"_\")[0])\n",
        "        index.append(k)\n",
        "    return index\n",
        "\n",
        "\n",
        "chan = 1\n",
        "\n",
        "fileNames = [f for f in os.listdir(dir) if os.path.isfile(os.path.join(dir, f)) and f.split(\"_\")[-1] != 'real']\n",
        "indices = file_index(fileNames,chan)\n",
        "\n",
        "count =[]\n",
        "\n",
        "for i,filename in enumerate(os.listdir(dir)):\n",
        "    f = os.path.join(dir, filename)\n",
        "    # checking if it is a file\n",
        "\n",
        "    cuurent_file = fileNames[i] \n",
        "    p = indices[i]\n",
        "    \n",
        "\n",
        "    if os.path.isfile(f) and filename.split(\"_\")[-1] != 'real':\n",
        "        \n",
        "        img = cv2.imread(f)\n",
        "        img = cv2.cvtColor(img, cv2.COLOR_BGR2GRAY)\n",
        "        num_labels, labels, stats, centroids = connectedComponentsWithStats(img, connectivity = 8)\n",
        "\n",
        "        output = img.copy()\n",
        "        for j in range(1,num_labels):\n",
        "            x = stats[j,cv2.CC_STAT_LEFT]\n",
        "            y = stats[j,cv2.CC_STAT_TOP]\n",
        "            w = stats[j,cv2.CC_STAT_WIDTH]\n",
        "            h = stats[j,cv2.CC_STAT_HEIGHT]\n",
        "            area = stats[j,cv2.CC_STAT_AREA]\n",
        "            (cX, cY) = centroids[j]\n",
        "                \n",
        "        output = cv2.rectangle(output, (x+2, y+2), (x+ w+2, y + h+2), (220, 20, 60), 1)   \n",
        "        count.append(num_labels-1)\n",
        "\n",
        "print(\"CHANNEL\",chan)\n",
        "dict1={}\n",
        "dict1 = dict(zip(indices,count))\n",
        "print(\"Calculated Droplet Counts\")\n",
        "print(dict1)\n",
        "tuple_1 = sorted(dict1.items(), key=lambda x: x[0])\n",
        "x,y = zip(*tuple_1)\n",
        "denoised = (x,y)"
      ],
      "metadata": {
        "id": "-3LmKzHC42QG",
        "colab": {
          "base_uri": "https://localhost:8080/"
        },
        "outputId": "58f7f52f-ceec-4409-ffc9-03889312268d"
      },
      "execution_count": 35,
      "outputs": [
        {
          "output_type": "stream",
          "name": "stdout",
          "text": [
            "CHANNEL 1\n",
            "Calculated Droplet Counts\n",
            "{0: 86, 13: 69, 14: 69, 15: 71, 16: 73, 17: 71, 18: 71, 19: 71, 20: 66, 21: 71, 22: 63, 23: 61, 24: 68, 25: 69, 26: 69, 27: 68, 28: 68, 29: 64, 31: 63, 32: 60, 34: 64, 35: 65, 36: 64, 37: 63, 4: 76, 40: 62, 43: 59, 44: 58, 45: 59, 46: 61, 47: 60, 49: 58, 51: 57, 52: 60, 56: 53, 8: 75}\n"
          ]
        }
      ]
    },
    {
      "cell_type": "markdown",
      "source": [
        "Plotting Results for Test Set"
      ],
      "metadata": {
        "id": "mksAAZeVmr_k"
      }
    },
    {
      "cell_type": "code",
      "source": [
        "data = {\"Cycle GAN_Calc\" : denoised,  \"Raw_Input_Calc\" : rawInput, \"Label\" : labels, \"Trad Method_Calc\":baseline}\n",
        "\n",
        "for key in data:\n",
        "  plt.plot(data[key][0], data[key][1],label = key)\n",
        "# for t, v in zip(x, y):\n",
        "#       plt.text(t, v, str(v), fontsize=5)\n",
        "plt.xlabel(\"Frame\")\n",
        "plt.ylabel(\"number of droplets\")\n",
        "plt.title(f\"droplets dectection for mCherry\")\n",
        "plt.legend()\n",
        "#plt.savefig(outfile)"
      ],
      "metadata": {
        "colab": {
          "base_uri": "https://localhost:8080/",
          "height": 313
        },
        "id": "F64EtYk_K0Cg",
        "outputId": "a3f0a54d-508d-4d5a-d26d-d7735ffea7c1"
      },
      "execution_count": 36,
      "outputs": [
        {
          "output_type": "execute_result",
          "data": {
            "text/plain": [
              "<matplotlib.legend.Legend at 0x7fe9726ff650>"
            ]
          },
          "metadata": {},
          "execution_count": 36
        },
        {
          "output_type": "display_data",
          "data": {
            "text/plain": [
              "<Figure size 432x288 with 1 Axes>"
            ],
            "image/png": "[encoded data removed]"
          },
          "metadata": {
            "needs_background": "light"
          }
        }
      ]
    }
  ]
}