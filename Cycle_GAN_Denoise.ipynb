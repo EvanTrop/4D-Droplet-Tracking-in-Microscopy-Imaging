{
  "cells": [
    {
      "cell_type": "code",
      "execution_count": 1,
      "metadata": {
        "colab": {
          "base_uri": "https://localhost:8080/"
        },
        "id": "meGcwtH55HQn",
        "outputId": "84afc9b3-5e97-47a8-c9bf-4bf6bf2b5087"
      },
      "outputs": [
        {
          "output_type": "stream",
          "name": "stdout",
          "text": [
            "Mounted at /content/gdrive\n"
          ]
        }
      ],
      "source": [
        "from google.colab import drive\n",
        "drive.mount('/content/gdrive')"
      ]
    },
    {
      "cell_type": "code",
      "execution_count": 2,
      "metadata": {
        "colab": {
          "base_uri": "https://localhost:8080/"
        },
        "id": "FdpXZDd9fw64",
        "outputId": "0c867ff8-4d73-4570-985e-b9d564d3c705"
      },
      "outputs": [
        {
          "output_type": "stream",
          "name": "stdout",
          "text": [
            "Mon May 23 15:49:37 2022       \n",
            "+-----------------------------------------------------------------------------+\n",
            "| NVIDIA-SMI 460.32.03    Driver Version: 460.32.03    CUDA Version: 11.2     |\n",
            "|-------------------------------+----------------------+----------------------+\n",
            "| GPU  Name        Persistence-M| Bus-Id        Disp.A | Volatile Uncorr. ECC |\n",
            "| Fan  Temp  Perf  Pwr:Usage/Cap|         Memory-Usage | GPU-Util  Compute M. |\n",
            "|                               |                      |               MIG M. |\n",
            "|===============================+======================+======================|\n",
            "|   0  Tesla T4            Off  | 00000000:00:04.0 Off |                    0 |\n",
            "| N/A   40C    P8     9W /  70W |      0MiB / 15109MiB |      0%      Default |\n",
            "|                               |                      |                  N/A |\n",
            "+-------------------------------+----------------------+----------------------+\n",
            "                                                                               \n",
            "+-----------------------------------------------------------------------------+\n",
            "| Processes:                                                                  |\n",
            "|  GPU   GI   CI        PID   Type   Process name                  GPU Memory |\n",
            "|        ID   ID                                                   Usage      |\n",
            "|=============================================================================|\n",
            "|  No running processes found                                                 |\n",
            "+-----------------------------------------------------------------------------+\n"
          ]
        }
      ],
      "source": [
        "!nvidia-smi"
      ]
    },
    {
      "cell_type": "code",
      "execution_count": 3,
      "metadata": {
        "id": "VMcMAmv45bUT"
      },
      "outputs": [],
      "source": [
        "import torch\n",
        "import numpy as np\n",
        "import matplotlib.pyplot as plt\n",
        "import cv2 as cv\n",
        "import sys"
      ]
    },
    {
      "cell_type": "code",
      "execution_count": 6,
      "metadata": {
        "colab": {
          "base_uri": "https://localhost:8080/"
        },
        "id": "ag028FlCce7a",
        "outputId": "9314047c-f140-4ca6-9cfd-13b5fd8425bf"
      },
      "outputs": [
        {
          "output_type": "stream",
          "name": "stdout",
          "text": [
            "/content/gdrive/.shortcut-targets-by-id/1KBLLeRYGQsIfkELFrExLiWHh1WVbHC7P/Bioimage Informatics\n"
          ]
        }
      ],
      "source": [
        "%cd /content/gdrive/MyDrive/Bioimage\\ Informatics"
      ]
    },
    {
      "cell_type": "code",
      "execution_count": 7,
      "metadata": {
        "id": "SO303Zudcsp3",
        "colab": {
          "base_uri": "https://localhost:8080/"
        },
        "outputId": "3ae7566b-8695-412d-a921-d04ec883a4b5"
      },
      "outputs": [
        {
          "output_type": "stream",
          "name": "stdout",
          "text": [
            "/content/gdrive/.shortcut-targets-by-id/1KBLLeRYGQsIfkELFrExLiWHh1WVbHC7P/Bioimage Informatics/pytorch-CycleGAN-and-pix2pix\n",
            "Requirement already satisfied: torch>=1.4.0 in /usr/local/lib/python3.7/dist-packages (from -r requirements.txt (line 1)) (1.11.0+cu113)\n",
            "Requirement already satisfied: torchvision>=0.5.0 in /usr/local/lib/python3.7/dist-packages (from -r requirements.txt (line 2)) (0.12.0+cu113)\n",
            "Collecting dominate>=2.4.0\n",
            "  Downloading dominate-2.6.0-py2.py3-none-any.whl (29 kB)\n",
            "Collecting visdom>=0.1.8.8\n",
            "  Downloading visdom-0.1.8.9.tar.gz (676 kB)\n",
            "\u001b[K     |████████████████████████████████| 676 kB 46.6 MB/s \n",
            "\u001b[?25hCollecting wandb\n",
            "  Downloading wandb-0.12.16-py2.py3-none-any.whl (1.8 MB)\n",
            "\u001b[K     |████████████████████████████████| 1.8 MB 70.9 MB/s \n",
            "\u001b[?25hRequirement already satisfied: typing-extensions in /usr/local/lib/python3.7/dist-packages (from torch>=1.4.0->-r requirements.txt (line 1)) (4.2.0)\n",
            "Requirement already satisfied: pillow!=8.3.*,>=5.3.0 in /usr/local/lib/python3.7/dist-packages (from torchvision>=0.5.0->-r requirements.txt (line 2)) (7.1.2)\n",
            "Requirement already satisfied: requests in /usr/local/lib/python3.7/dist-packages (from torchvision>=0.5.0->-r requirements.txt (line 2)) (2.23.0)\n",
            "Requirement already satisfied: numpy in /usr/local/lib/python3.7/dist-packages (from torchvision>=0.5.0->-r requirements.txt (line 2)) (1.21.6)\n",
            "Requirement already satisfied: scipy in /usr/local/lib/python3.7/dist-packages (from visdom>=0.1.8.8->-r requirements.txt (line 4)) (1.4.1)\n",
            "Requirement already satisfied: tornado in /usr/local/lib/python3.7/dist-packages (from visdom>=0.1.8.8->-r requirements.txt (line 4)) (5.1.1)\n",
            "Requirement already satisfied: pyzmq in /usr/local/lib/python3.7/dist-packages (from visdom>=0.1.8.8->-r requirements.txt (line 4)) (22.3.0)\n",
            "Requirement already satisfied: six in /usr/local/lib/python3.7/dist-packages (from visdom>=0.1.8.8->-r requirements.txt (line 4)) (1.15.0)\n",
            "Collecting jsonpatch\n",
            "  Downloading jsonpatch-1.32-py2.py3-none-any.whl (12 kB)\n",
            "Collecting torchfile\n",
            "  Downloading torchfile-0.1.0.tar.gz (5.2 kB)\n",
            "Collecting websocket-client\n",
            "  Downloading websocket_client-1.3.2-py3-none-any.whl (54 kB)\n",
            "\u001b[K     |████████████████████████████████| 54 kB 1.9 MB/s \n",
            "\u001b[?25hRequirement already satisfied: psutil>=5.0.0 in /usr/local/lib/python3.7/dist-packages (from wandb->-r requirements.txt (line 5)) (5.4.8)\n",
            "Requirement already satisfied: PyYAML in /usr/local/lib/python3.7/dist-packages (from wandb->-r requirements.txt (line 5)) (3.13)\n",
            "Collecting pathtools\n",
            "  Downloading pathtools-0.1.2.tar.gz (11 kB)\n",
            "Collecting shortuuid>=0.5.0\n",
            "  Downloading shortuuid-1.0.9-py3-none-any.whl (9.4 kB)\n",
            "Collecting sentry-sdk>=1.0.0\n",
            "  Downloading sentry_sdk-1.5.12-py2.py3-none-any.whl (145 kB)\n",
            "\u001b[K     |████████████████████████████████| 145 kB 57.8 MB/s \n",
            "\u001b[?25hCollecting GitPython>=1.0.0\n",
            "  Downloading GitPython-3.1.27-py3-none-any.whl (181 kB)\n",
            "\u001b[K     |████████████████████████████████| 181 kB 65.4 MB/s \n",
            "\u001b[?25hRequirement already satisfied: python-dateutil>=2.6.1 in /usr/local/lib/python3.7/dist-packages (from wandb->-r requirements.txt (line 5)) (2.8.2)\n",
            "Requirement already satisfied: protobuf>=3.12.0 in /usr/local/lib/python3.7/dist-packages (from wandb->-r requirements.txt (line 5)) (3.17.3)\n",
            "Requirement already satisfied: setuptools in /usr/local/lib/python3.7/dist-packages (from wandb->-r requirements.txt (line 5)) (57.4.0)\n",
            "Requirement already satisfied: promise<3,>=2.0 in /usr/local/lib/python3.7/dist-packages (from wandb->-r requirements.txt (line 5)) (2.3)\n",
            "Collecting setproctitle\n",
            "  Downloading setproctitle-1.2.3-cp37-cp37m-manylinux_2_5_x86_64.manylinux1_x86_64.manylinux_2_17_x86_64.manylinux2014_x86_64.whl (29 kB)\n",
            "Collecting docker-pycreds>=0.4.0\n",
            "  Downloading docker_pycreds-0.4.0-py2.py3-none-any.whl (9.0 kB)\n",
            "Requirement already satisfied: Click!=8.0.0,>=7.0 in /usr/local/lib/python3.7/dist-packages (from wandb->-r requirements.txt (line 5)) (7.1.2)\n",
            "Collecting gitdb<5,>=4.0.1\n",
            "  Downloading gitdb-4.0.9-py3-none-any.whl (63 kB)\n",
            "\u001b[K     |████████████████████████████████| 63 kB 2.3 MB/s \n",
            "\u001b[?25hCollecting smmap<6,>=3.0.1\n",
            "  Downloading smmap-5.0.0-py3-none-any.whl (24 kB)\n",
            "Requirement already satisfied: certifi>=2017.4.17 in /usr/local/lib/python3.7/dist-packages (from requests->torchvision>=0.5.0->-r requirements.txt (line 2)) (2021.10.8)\n",
            "Requirement already satisfied: chardet<4,>=3.0.2 in /usr/local/lib/python3.7/dist-packages (from requests->torchvision>=0.5.0->-r requirements.txt (line 2)) (3.0.4)\n",
            "Requirement already satisfied: idna<3,>=2.5 in /usr/local/lib/python3.7/dist-packages (from requests->torchvision>=0.5.0->-r requirements.txt (line 2)) (2.10)\n",
            "Requirement already satisfied: urllib3!=1.25.0,!=1.25.1,<1.26,>=1.21.1 in /usr/local/lib/python3.7/dist-packages (from requests->torchvision>=0.5.0->-r requirements.txt (line 2)) (1.24.3)\n",
            "Collecting jsonpointer>=1.9\n",
            "  Downloading jsonpointer-2.3-py2.py3-none-any.whl (7.8 kB)\n",
            "Building wheels for collected packages: visdom, pathtools, torchfile\n",
            "  Building wheel for visdom (setup.py) ... \u001b[?25l\u001b[?25hdone\n",
            "  Created wheel for visdom: filename=visdom-0.1.8.9-py3-none-any.whl size=655250 sha256=9cca2970b1c40b2d4a2670a90afdb2bd0e71d9e0246fcff727e99550dfa8adc4\n",
            "  Stored in directory: /root/.cache/pip/wheels/2d/d1/9b/cde923274eac9cbb6ff0d8c7c72fe30a3da9095a38fd50bbf1\n",
            "  Building wheel for pathtools (setup.py) ... \u001b[?25l\u001b[?25hdone\n",
            "  Created wheel for pathtools: filename=pathtools-0.1.2-py3-none-any.whl size=8806 sha256=5670a13040be86fddc8acb1fb4760eac286d4e3b9b50b383bef4d9072aeca871\n",
            "  Stored in directory: /root/.cache/pip/wheels/3e/31/09/fa59cef12cdcfecc627b3d24273699f390e71828921b2cbba2\n",
            "  Building wheel for torchfile (setup.py) ... \u001b[?25l\u001b[?25hdone\n",
            "  Created wheel for torchfile: filename=torchfile-0.1.0-py3-none-any.whl size=5709 sha256=066cb908dca59f7e07658e4f9021af9a36a43ea5057c53952585e68785497279\n",
            "  Stored in directory: /root/.cache/pip/wheels/ac/5c/3a/a80e1c65880945c71fd833408cd1e9a8cb7e2f8f37620bb75b\n",
            "Successfully built visdom pathtools torchfile\n",
            "Installing collected packages: smmap, jsonpointer, gitdb, websocket-client, torchfile, shortuuid, setproctitle, sentry-sdk, pathtools, jsonpatch, GitPython, docker-pycreds, wandb, visdom, dominate\n",
            "Successfully installed GitPython-3.1.27 docker-pycreds-0.4.0 dominate-2.6.0 gitdb-4.0.9 jsonpatch-1.32 jsonpointer-2.3 pathtools-0.1.2 sentry-sdk-1.5.12 setproctitle-1.2.3 shortuuid-1.0.9 smmap-5.0.0 torchfile-0.1.0 visdom-0.1.8.9 wandb-0.12.16 websocket-client-1.3.2\n"
          ]
        }
      ],
      "source": [
        "#!git clone https://github.com/junyanz/pytorch-CycleGAN-and-pix2pix\n",
        "%cd pytorch-CycleGAN-and-pix2pix\n",
        "!pip install -r requirements.txt"
      ]
    },
    {
      "cell_type": "code",
      "execution_count": null,
      "metadata": {
        "id": "BsEQbUhQdD7N"
      },
      "outputs": [],
      "source": [
        "#wandb api key\n",
        "#f388ef8dba82b460ea7900f66d4e0107294bbcc1"
      ]
    },
    {
      "cell_type": "markdown",
      "metadata": {
        "id": "ISemE7OnUczm"
      },
      "source": [
        "## Cycle GAN Training"
      ]
    },
    {
      "cell_type": "code",
      "source": [
        "!python supervised_train.py --dataroot ../Image\\ Synthesis/ --name Evan_5_6_1_SL --checkpoints_dir ../checkpoints/ --model cycle_gan --batch_size 4 --input_nc 1 --output_nc 1 --gpu_ids 0 --direction AtoB --save_epoch_freq 5 --preprocess crop --lr .0001 --pretrain 1 --SSL 1 --SLsubdirec ../label_data/ "
      ],
      "metadata": {
        "id": "HRJuUfbnY1f-"
      },
      "execution_count": null,
      "outputs": []
    },
    {
      "cell_type": "code",
      "execution_count": null,
      "metadata": {
        "colab": {
          "base_uri": "https://localhost:8080/"
        },
        "id": "D0WoRSRkKHc-",
        "outputId": "c578cee1-3578-4925-a93f-aa545e0296d8"
      },
      "outputs": [
        {
          "output_type": "stream",
          "name": "stdout",
          "text": [
            "----------------- Options ---------------\n",
            "               SLsubdirec: ../label_data/                \t[default: ]\n",
            "                      SSL: 1                             \t[default: 0]\n",
            "               batch_size: 4                             \t[default: 1]\n",
            "                    beta1: 0.5                           \n",
            "          checkpoints_dir: ../checkpoints/               \t[default: ./checkpoints]\n",
            "           continue_train: False                         \n",
            "                crop_size: 256                           \n",
            "                 dataroot: ../Image Synthesis/           \t[default: None]\n",
            "             dataset_mode: unaligned                     \n",
            "                direction: AtoB                          \n",
            "              display_env: main                          \n",
            "             display_freq: 400                           \n",
            "               display_id: 1                             \n",
            "            display_ncols: 4                             \n",
            "             display_port: 8097                          \n",
            "           display_server: http://localhost              \n",
            "          display_winsize: 256                           \n",
            "                    epoch: latest                        \n",
            "              epoch_count: 1                             \n",
            "                 gan_mode: lsgan                         \n",
            "                  gpu_ids: 0                             \n",
            "                init_gain: 0.02                          \n",
            "                init_type: normal                        \n",
            "                 input_nc: 1                             \t[default: 3]\n",
            "                  isTrain: True                          \t[default: None]\n",
            "                 lambda_A: 10.0                          \n",
            "                 lambda_B: 10.0                          \n",
            "          lambda_identity: 0.5                           \n",
            "                load_iter: 0                             \t[default: 0]\n",
            "                load_size: 286                           \n",
            "                       lr: 0.0001                        \t[default: 0.0002]\n",
            "           lr_decay_iters: 50                            \n",
            "                lr_policy: linear                        \n",
            "         max_dataset_size: inf                           \n",
            "                    model: cycle_gan                     \n",
            "                 n_epochs: 100                           \n",
            "           n_epochs_decay: 100                           \n",
            "               n_layers_D: 3                             \n",
            "                     name: Evan_5_6_2_SSL                \t[default: experiment_name]\n",
            "                      ndf: 64                            \n",
            "                     netD: basic                         \n",
            "                     netG: resnet_9blocks                \n",
            "                      ngf: 64                            \n",
            "               no_dropout: True                          \n",
            "                  no_flip: False                         \n",
            "                  no_html: False                         \n",
            "                     norm: instance                      \n",
            "              num_threads: 4                             \n",
            "                output_nc: 1                             \t[default: 3]\n",
            "                    phase: train                         \n",
            "                pool_size: 50                            \n",
            "               preprocess: crop                          \t[default: resize_and_crop]\n",
            "                 pretrain: 0                             \n",
            "               print_freq: 100                           \n",
            "             save_by_iter: False                         \n",
            "          save_epoch_freq: 5                             \n",
            "         save_latest_freq: 5000                          \n",
            "           serial_batches: False                         \n",
            "                   suffix:                               \n",
            "         update_html_freq: 1000                          \n",
            "                use_wandb: True                          \t[default: False]\n",
            "                  verbose: False                         \n",
            "----------------- End -------------------\n",
            "dataset [UnalignedDataset] was created\n",
            "The number of training images = 200\n",
            "initialize network with normal\n",
            "initialize network with normal\n",
            "initialize network with normal\n",
            "initialize network with normal\n",
            "model [CycleGANModel] was created\n",
            "---------- Networks initialized -------------\n",
            "[Network G_A] Total number of parameters : 11.366 M\n",
            "[Network G_B] Total number of parameters : 11.366 M\n",
            "[Network D_A] Total number of parameters : 2.763 M\n",
            "[Network D_B] Total number of parameters : 2.763 M\n",
            "-----------------------------------------------\n",
            "Setting up a new session...\n",
            "Exception in user code:\n",
            "------------------------------------------------------------\n",
            "Traceback (most recent call last):\n",
            "  File \"/usr/local/lib/python3.7/dist-packages/urllib3/connection.py\", line 159, in _new_conn\n",
            "    (self._dns_host, self.port), self.timeout, **extra_kw)\n",
            "  File \"/usr/local/lib/python3.7/dist-packages/urllib3/util/connection.py\", line 80, in create_connection\n",
            "    raise err\n",
            "  File \"/usr/local/lib/python3.7/dist-packages/urllib3/util/connection.py\", line 70, in create_connection\n",
            "    sock.connect(sa)\n",
            "ConnectionRefusedError: [Errno 111] Connection refused\n",
            "\n",
            "During handling of the above exception, another exception occurred:\n",
            "\n",
            "Traceback (most recent call last):\n",
            "  File \"/usr/local/lib/python3.7/dist-packages/urllib3/connectionpool.py\", line 600, in urlopen\n",
            "    chunked=chunked)\n",
            "  File \"/usr/local/lib/python3.7/dist-packages/urllib3/connectionpool.py\", line 354, in _make_request\n",
            "    conn.request(method, url, **httplib_request_kw)\n",
            "  File \"/usr/lib/python3.7/http/client.py\", line 1281, in request\n",
            "    self._send_request(method, url, body, headers, encode_chunked)\n",
            "  File \"/usr/lib/python3.7/http/client.py\", line 1327, in _send_request\n",
            "    self.endheaders(body, encode_chunked=encode_chunked)\n",
            "  File \"/usr/lib/python3.7/http/client.py\", line 1276, in endheaders\n",
            "    self._send_output(message_body, encode_chunked=encode_chunked)\n",
            "  File \"/usr/lib/python3.7/http/client.py\", line 1036, in _send_output\n",
            "    self.send(msg)\n",
            "  File \"/usr/lib/python3.7/http/client.py\", line 976, in send\n",
            "    self.connect()\n",
            "  File \"/usr/local/lib/python3.7/dist-packages/urllib3/connection.py\", line 181, in connect\n",
            "    conn = self._new_conn()\n",
            "  File \"/usr/local/lib/python3.7/dist-packages/urllib3/connection.py\", line 168, in _new_conn\n",
            "    self, \"Failed to establish a new connection: %s\" % e)\n",
            "urllib3.exceptions.NewConnectionError: <urllib3.connection.HTTPConnection object at 0x7f8544a8a450>: Failed to establish a new connection: [Errno 111] Connection refused\n",
            "\n",
            "During handling of the above exception, another exception occurred:\n",
            "\n",
            "Traceback (most recent call last):\n",
            "  File \"/usr/local/lib/python3.7/dist-packages/requests/adapters.py\", line 449, in send\n",
            "    timeout=timeout\n",
            "  File \"/usr/local/lib/python3.7/dist-packages/urllib3/connectionpool.py\", line 638, in urlopen\n",
            "    _stacktrace=sys.exc_info()[2])\n",
            "  File \"/usr/local/lib/python3.7/dist-packages/urllib3/util/retry.py\", line 399, in increment\n",
            "    raise MaxRetryError(_pool, url, error or ResponseError(cause))\n",
            "urllib3.exceptions.MaxRetryError: HTTPConnectionPool(host='localhost', port=8097): Max retries exceeded with url: /env/main (Caused by NewConnectionError('<urllib3.connection.HTTPConnection object at 0x7f8544a8a450>: Failed to establish a new connection: [Errno 111] Connection refused'))\n",
            "\n",
            "During handling of the above exception, another exception occurred:\n",
            "\n",
            "Traceback (most recent call last):\n",
            "  File \"/usr/local/lib/python3.7/dist-packages/visdom/__init__.py\", line 711, in _send\n",
            "    data=json.dumps(msg),\n",
            "  File \"/usr/local/lib/python3.7/dist-packages/visdom/__init__.py\", line 677, in _handle_post\n",
            "    r = self.session.post(url, data=data)\n",
            "  File \"/usr/local/lib/python3.7/dist-packages/requests/sessions.py\", line 578, in post\n",
            "    return self.request('POST', url, data=data, json=json, **kwargs)\n",
            "  File \"/usr/local/lib/python3.7/dist-packages/requests/sessions.py\", line 530, in request\n",
            "    resp = self.send(prep, **send_kwargs)\n",
            "  File \"/usr/local/lib/python3.7/dist-packages/requests/sessions.py\", line 643, in send\n",
            "    r = adapter.send(request, **kwargs)\n",
            "  File \"/usr/local/lib/python3.7/dist-packages/requests/adapters.py\", line 516, in send\n",
            "    raise ConnectionError(e, request=request)\n",
            "requests.exceptions.ConnectionError: HTTPConnectionPool(host='localhost', port=8097): Max retries exceeded with url: /env/main (Caused by NewConnectionError('<urllib3.connection.HTTPConnection object at 0x7f8544a8a450>: Failed to establish a new connection: [Errno 111] Connection refused'))\n",
            "[Errno 99] Cannot assign requested address\n",
            "on_close() takes 1 positional argument but 3 were given\n",
            "[Errno 99] Cannot assign requested address\n",
            "on_close() takes 1 positional argument but 3 were given\n",
            "[Errno 99] Cannot assign requested address\n",
            "on_close() takes 1 positional argument but 3 were given\n",
            "Visdom python client failed to establish socket to get messages from the server. This feature is optional and can be disabled by initializing Visdom with `use_incoming_socket=False`, which will prevent waiting for this request to timeout.\n",
            "\n",
            "\n",
            "Could not connect to Visdom server. \n",
            " Trying to start a server....\n",
            "Command: /usr/bin/python3 -m visdom.server -p 8097 &>/dev/null &\n",
            "\u001b[34m\u001b[1mwandb\u001b[0m: (1) Create a W&B account\n",
            "\u001b[34m\u001b[1mwandb\u001b[0m: (2) Use an existing W&B account\n",
            "\u001b[34m\u001b[1mwandb\u001b[0m: (3) Don't visualize my results\n",
            "\u001b[34m\u001b[1mwandb\u001b[0m: Enter your choice: [Errno 99] Cannot assign requested address\n",
            "on_close() takes 1 positional argument but 3 were given\n",
            "2\n",
            "\u001b[34m\u001b[1mwandb\u001b[0m: You chose 'Use an existing W&B account'\n",
            "\u001b[34m\u001b[1mwandb\u001b[0m: You can find your API key in your browser here: https://wandb.ai/authorize\n",
            "\u001b[34m\u001b[1mwandb\u001b[0m: Paste an API key from your profile and hit enter, or press ctrl+c to quit: \n",
            "\u001b[34m\u001b[1mwandb\u001b[0m: Appending key for api.wandb.ai to your netrc file: /root/.netrc\n",
            "\u001b[34m\u001b[1mwandb\u001b[0m: Tracking run with wandb version 0.12.16\n",
            "\u001b[34m\u001b[1mwandb\u001b[0m: Run data is saved locally in \u001b[35m\u001b[1m/content/gdrive/.shortcut-targets-by-id/1KBLLeRYGQsIfkELFrExLiWHh1WVbHC7P/Bioimage Informatics/pytorch-CycleGAN-and-pix2pix/wandb/run-20220506_143509-p00k4pzf\u001b[0m\n",
            "\u001b[34m\u001b[1mwandb\u001b[0m: Run \u001b[1m`wandb offline`\u001b[0m to turn off syncing.\n",
            "\u001b[34m\u001b[1mwandb\u001b[0m: Syncing run \u001b[33mEvan_5_6_2_SSL\u001b[0m\n",
            "\u001b[34m\u001b[1mwandb\u001b[0m: ⭐️ View project at \u001b[34m\u001b[4mhttps://wandb.ai/etrop/CycleGAN-and-pix2pix\u001b[0m\n",
            "\u001b[34m\u001b[1mwandb\u001b[0m: 🚀 View run at \u001b[34m\u001b[4mhttps://wandb.ai/etrop/CycleGAN-and-pix2pix/runs/p00k4pzf\u001b[0m\n",
            "create web directory ../checkpoints/Evan_5_6_2_SSL/web...\n",
            "/usr/local/lib/python3.7/dist-packages/torchvision/transforms/transforms.py:333: UserWarning: Argument interpolation should be of type InterpolationMode instead of int. Please, use InterpolationMode enum.\n",
            "  \"Argument interpolation should be of type InterpolationMode instead of int. \"\n",
            "/usr/local/lib/python3.7/dist-packages/torch/optim/lr_scheduler.py:136: UserWarning: Detected call of `lr_scheduler.step()` before `optimizer.step()`. In PyTorch 1.1.0 and later, you should call them in the opposite order: `optimizer.step()` before `lr_scheduler.step()`.  Failure to do this will result in PyTorch skipping the first value of the learning rate schedule. See more details at https://pytorch.org/docs/stable/optim.html#how-to-adjust-learning-rate\n",
            "  \"https://pytorch.org/docs/stable/optim.html#how-to-adjust-learning-rate\", UserWarning)\n",
            "learning rate 0.0001000 -> 0.0001000\n",
            "(epoch: 1, iters: 100, time: 0.468, data: 0.002) D_A: 0.651 G_A: 0.581 cycle_A: 0.268 idt_A: 1.389 D_B: 0.398 G_B: 0.645 cycle_B: 2.810 idt_B: 0.171 \n",
            "(epoch: 1, iters: 200, time: 0.496, data: 0.002) D_A: 0.351 G_A: 0.438 cycle_A: 0.248 idt_A: 0.125 D_B: 0.403 G_B: 0.408 cycle_B: 0.245 idt_B: 0.126 \n",
            "End of epoch 1 / 200 \t Time Taken: 99 sec\n",
            "SSL Loss!!: 6.050451498765212\n",
            "learning rate 0.0001000 -> 0.0001000\n",
            "(epoch: 2, iters: 100, time: 0.485, data: 0.002) D_A: 0.338 G_A: 0.403 cycle_A: 0.249 idt_A: 0.140 D_B: 0.410 G_B: 0.374 cycle_B: 0.292 idt_B: 0.123 \n",
            "(epoch: 2, iters: 200, time: 0.764, data: 0.003) D_A: 0.269 G_A: 0.437 cycle_A: 0.150 idt_A: 0.124 D_B: 0.326 G_B: 0.315 cycle_B: 0.274 idt_B: 0.069 \n",
            "End of epoch 2 / 200 \t Time Taken: 95 sec\n",
            "SSL Loss!!: 0.9520424879514254\n",
            "learning rate 0.0001000 -> 0.0001000\n",
            "(epoch: 3, iters: 100, time: 0.489, data: 0.002) D_A: 0.730 G_A: 0.653 cycle_A: 0.175 idt_A: 0.122 D_B: 0.292 G_B: 0.302 cycle_B: 0.272 idt_B: 0.071 \n",
            "(epoch: 3, iters: 200, time: 0.488, data: 0.001) D_A: 0.188 G_A: 0.739 cycle_A: 0.451 idt_A: 0.065 D_B: 0.276 G_B: 0.266 cycle_B: 0.132 idt_B: 0.195 \n",
            "End of epoch 3 / 200 \t Time Taken: 94 sec\n",
            "SSL Loss!!: 0.8575728535652161\n",
            "learning rate 0.0001000 -> 0.0001000\n",
            "(epoch: 4, iters: 100, time: 0.486, data: 0.002) D_A: 0.108 G_A: 0.835 cycle_A: 0.241 idt_A: 0.102 D_B: 0.290 G_B: 0.294 cycle_B: 0.205 idt_B: 0.113 \n",
            "(epoch: 4, iters: 200, time: 0.656, data: 0.001) D_A: 0.271 G_A: 0.295 cycle_A: 0.176 idt_A: 0.071 D_B: 0.291 G_B: 0.311 cycle_B: 0.145 idt_B: 0.078 \n",
            "End of epoch 4 / 200 \t Time Taken: 95 sec\n",
            "SSL Loss!!: 0.8390413568570063\n",
            "learning rate 0.0001000 -> 0.0001000\n",
            "(epoch: 5, iters: 100, time: 0.488, data: 0.002) D_A: 0.329 G_A: 0.322 cycle_A: 0.150 idt_A: 0.069 D_B: 0.292 G_B: 0.311 cycle_B: 0.155 idt_B: 0.061 \n",
            "(epoch: 5, iters: 200, time: 0.487, data: 0.001) D_A: 0.214 G_A: 0.419 cycle_A: 0.206 idt_A: 0.104 D_B: 0.246 G_B: 0.306 cycle_B: 0.208 idt_B: 0.077 \n",
            "saving the model at the end of epoch 5, iters 1000\n",
            "End of epoch 5 / 200 \t Time Taken: 95 sec\n",
            "SSL Loss!!: 0.8560404731677129\n",
            "learning rate 0.0001000 -> 0.0001000\n",
            "(epoch: 6, iters: 100, time: 0.488, data: 0.002) D_A: 0.256 G_A: 0.350 cycle_A: 0.150 idt_A: 0.078 D_B: 0.322 G_B: 0.156 cycle_B: 0.160 idt_B: 0.064 \n",
            "(epoch: 6, iters: 200, time: 0.678, data: 0.001) D_A: 0.167 G_A: 0.423 cycle_A: 0.289 idt_A: 0.090 D_B: 0.319 G_B: 0.178 cycle_B: 0.179 idt_B: 0.088 \n",
            "End of epoch 6 / 200 \t Time Taken: 95 sec\n",
            "SSL Loss!!: 0.8309611953221835\n",
            "learning rate 0.0001000 -> 0.0001000\n",
            "(epoch: 7, iters: 100, time: 0.488, data: 0.002) D_A: 0.226 G_A: 0.380 cycle_A: 0.161 idt_A: 0.049 D_B: 0.264 G_B: 0.276 cycle_B: 0.099 idt_B: 0.070 \n",
            "(epoch: 7, iters: 200, time: 0.490, data: 0.002) D_A: 0.173 G_A: 0.682 cycle_A: 0.285 idt_A: 0.116 D_B: 0.254 G_B: 0.258 cycle_B: 0.232 idt_B: 0.116 \n",
            "End of epoch 7 / 200 \t Time Taken: 94 sec\n",
            "SSL Loss!!: 0.8414206000474783\n",
            "learning rate 0.0001000 -> 0.0001000\n",
            "(epoch: 8, iters: 100, time: 0.487, data: 0.002) D_A: 0.318 G_A: 0.351 cycle_A: 0.320 idt_A: 0.031 D_B: 0.251 G_B: 0.232 cycle_B: 0.064 idt_B: 0.105 \n",
            "(epoch: 8, iters: 200, time: 0.667, data: 0.001) D_A: 0.256 G_A: 0.341 cycle_A: 0.338 idt_A: 1.254 D_B: 0.274 G_B: 0.640 cycle_B: 2.495 idt_B: 0.081 \n",
            "End of epoch 8 / 200 \t Time Taken: 95 sec\n",
            "SSL Loss!!: 0.8700942901464609\n",
            "learning rate 0.0001000 -> 0.0001000\n",
            "(epoch: 9, iters: 100, time: 0.487, data: 0.002) D_A: 0.243 G_A: 0.311 cycle_A: 0.199 idt_A: 0.035 D_B: 0.241 G_B: 0.274 cycle_B: 0.052 idt_B: 0.083 \n",
            "(epoch: 9, iters: 200, time: 0.488, data: 0.001) D_A: 0.211 G_A: 0.438 cycle_A: 0.150 idt_A: 0.055 D_B: 0.274 G_B: 0.227 cycle_B: 0.111 idt_B: 0.060 \n",
            "End of epoch 9 / 200 \t Time Taken: 94 sec\n",
            "SSL Loss!!: 0.8608019718757043\n",
            "learning rate 0.0001000 -> 0.0001000\n",
            "(epoch: 10, iters: 100, time: 0.489, data: 0.002) D_A: 0.254 G_A: 0.361 cycle_A: 0.230 idt_A: 0.049 D_B: 0.293 G_B: 0.234 cycle_B: 0.102 idt_B: 0.098 \n",
            "(epoch: 10, iters: 200, time: 0.680, data: 0.001) D_A: 0.340 G_A: 0.232 cycle_A: 0.125 idt_A: 0.042 D_B: 0.260 G_B: 0.198 cycle_B: 0.078 idt_B: 0.056 \n",
            "saving the model at the end of epoch 10, iters 2000\n",
            "End of epoch 10 / 200 \t Time Taken: 96 sec\n",
            "SSL Loss!!: 0.8447306339557354\n",
            "learning rate 0.0001000 -> 0.0001000\n",
            "(epoch: 11, iters: 100, time: 0.489, data: 0.002) D_A: 0.276 G_A: 0.348 cycle_A: 0.474 idt_A: 0.046 D_B: 0.181 G_B: 0.307 cycle_B: 0.069 idt_B: 0.241 \n",
            "(epoch: 11, iters: 200, time: 0.487, data: 0.001) D_A: 0.253 G_A: 0.235 cycle_A: 0.732 idt_A: 0.026 D_B: 0.259 G_B: 0.167 cycle_B: 0.064 idt_B: 0.273 \n",
            "End of epoch 11 / 200 \t Time Taken: 94 sec\n",
            "SSL Loss!!: 0.8466094732284546\n",
            "learning rate 0.0001000 -> 0.0001000\n",
            "(epoch: 12, iters: 100, time: 0.488, data: 0.002) D_A: 0.256 G_A: 0.348 cycle_A: 0.141 idt_A: 0.056 D_B: 0.240 G_B: 0.301 cycle_B: 0.092 idt_B: 0.057 \n",
            "(epoch: 12, iters: 200, time: 0.692, data: 0.001) D_A: 0.261 G_A: 0.341 cycle_A: 0.105 idt_A: 0.032 D_B: 0.273 G_B: 0.257 cycle_B: 0.062 idt_B: 0.045 \n",
            "End of epoch 12 / 200 \t Time Taken: 95 sec\n",
            "SSL Loss!!: 0.8677420753699082\n",
            "learning rate 0.0001000 -> 0.0001000\n",
            "(epoch: 13, iters: 100, time: 0.491, data: 0.002) D_A: 0.267 G_A: 0.349 cycle_A: 0.124 idt_A: 0.041 D_B: 0.292 G_B: 0.172 cycle_B: 0.077 idt_B: 0.049 \n",
            "(epoch: 13, iters: 200, time: 0.488, data: 0.001) D_A: 0.297 G_A: 0.198 cycle_A: 0.149 idt_A: 0.047 D_B: 0.273 G_B: 0.245 cycle_B: 0.068 idt_B: 0.052 \n",
            "End of epoch 13 / 200 \t Time Taken: 94 sec\n",
            "SSL Loss!!: 0.8041250476470361\n",
            "learning rate 0.0001000 -> 0.0001000\n",
            "(epoch: 14, iters: 100, time: 0.487, data: 0.002) D_A: 0.246 G_A: 0.301 cycle_A: 0.159 idt_A: 0.026 D_B: 0.264 G_B: 0.300 cycle_B: 0.065 idt_B: 0.062 \n",
            "(epoch: 14, iters: 200, time: 0.679, data: 0.001) D_A: 0.262 G_A: 0.290 cycle_A: 0.187 idt_A: 0.045 D_B: 0.261 G_B: 0.202 cycle_B: 0.096 idt_B: 0.098 \n",
            "End of epoch 14 / 200 \t Time Taken: 95 sec\n",
            "SSL Loss!!: 0.8282722418124859\n",
            "learning rate 0.0001000 -> 0.0001000\n",
            "(epoch: 15, iters: 100, time: 0.490, data: 0.004) D_A: 0.265 G_A: 0.310 cycle_A: 0.115 idt_A: 0.031 D_B: 0.277 G_B: 0.209 cycle_B: 0.061 idt_B: 0.054 \n",
            "(epoch: 15, iters: 200, time: 0.490, data: 0.001) D_A: 0.296 G_A: 0.280 cycle_A: 0.134 idt_A: 0.037 D_B: 0.250 G_B: 0.284 cycle_B: 0.055 idt_B: 0.051 \n",
            "saving the model at the end of epoch 15, iters 3000\n",
            "End of epoch 15 / 200 \t Time Taken: 95 sec\n",
            "SSL Loss!!: 0.821216459457691\n",
            "learning rate 0.0001000 -> 0.0001000\n",
            "(epoch: 16, iters: 100, time: 0.489, data: 0.002) D_A: 0.276 G_A: 0.229 cycle_A: 0.115 idt_A: 0.047 D_B: 0.281 G_B: 0.372 cycle_B: 0.115 idt_B: 0.047 \n",
            "(epoch: 16, iters: 200, time: 0.713, data: 0.001) D_A: 0.269 G_A: 0.254 cycle_A: 0.848 idt_A: 1.233 D_B: 0.197 G_B: 0.469 cycle_B: 2.463 idt_B: 0.358 \n",
            "End of epoch 16 / 200 \t Time Taken: 95 sec\n",
            "SSL Loss!!: 0.8229554203840402\n",
            "learning rate 0.0001000 -> 0.0001000\n",
            "(epoch: 17, iters: 100, time: 0.487, data: 0.002) D_A: 0.275 G_A: 0.247 cycle_A: 0.324 idt_A: 0.033 D_B: 0.211 G_B: 0.232 cycle_B: 0.051 idt_B: 0.107 \n",
            "(epoch: 17, iters: 200, time: 0.489, data: 0.001) D_A: 0.251 G_A: 0.258 cycle_A: 0.135 idt_A: 0.054 D_B: 0.276 G_B: 0.288 cycle_B: 0.087 idt_B: 0.050 \n",
            "End of epoch 17 / 200 \t Time Taken: 94 sec\n",
            "SSL Loss!!: 0.7972006339293259\n",
            "learning rate 0.0001000 -> 0.0001000\n",
            "(epoch: 18, iters: 100, time: 0.489, data: 0.002) D_A: 0.236 G_A: 0.391 cycle_A: 0.149 idt_A: 0.017 D_B: 0.272 G_B: 0.265 cycle_B: 0.034 idt_B: 0.070 \n",
            "(epoch: 18, iters: 200, time: 0.682, data: 0.001) D_A: 0.262 G_A: 0.325 cycle_A: 0.116 idt_A: 0.022 D_B: 0.270 G_B: 0.278 cycle_B: 0.043 idt_B: 0.052 \n",
            "End of epoch 18 / 200 \t Time Taken: 95 sec\n",
            "SSL Loss!!: 0.8282125959029565\n",
            "learning rate 0.0001000 -> 0.0001000\n",
            "(epoch: 19, iters: 100, time: 0.490, data: 0.002) D_A: 0.258 G_A: 0.240 cycle_A: 0.089 idt_A: 0.022 D_B: 0.257 G_B: 0.267 cycle_B: 0.036 idt_B: 0.039 \n",
            "(epoch: 19, iters: 200, time: 0.489, data: 0.001) D_A: 0.267 G_A: 0.320 cycle_A: 0.103 idt_A: 0.020 D_B: 0.264 G_B: 0.253 cycle_B: 0.039 idt_B: 0.040 \n",
            "End of epoch 19 / 200 \t Time Taken: 94 sec\n",
            "SSL Loss!!: 0.8146192110501803\n",
            "learning rate 0.0001000 -> 0.0001000\n",
            "(epoch: 20, iters: 100, time: 0.490, data: 0.002) D_A: 0.270 G_A: 0.217 cycle_A: 0.103 idt_A: 0.033 D_B: 0.238 G_B: 0.255 cycle_B: 0.058 idt_B: 0.046 \n",
            "(epoch: 20, iters: 200, time: 0.683, data: 0.001) D_A: 0.245 G_A: 0.371 cycle_A: 0.124 idt_A: 1.231 D_B: 0.220 G_B: 0.419 cycle_B: 2.454 idt_B: 0.052 \n",
            "saving the model at the end of epoch 20, iters 4000\n",
            "End of epoch 20 / 200 \t Time Taken: 96 sec\n",
            "SSL Loss!!: 0.819654432626871\n",
            "learning rate 0.0001000 -> 0.0001000\n",
            "(epoch: 21, iters: 100, time: 0.490, data: 0.002) D_A: 0.278 G_A: 0.227 cycle_A: 0.105 idt_A: 0.031 D_B: 0.272 G_B: 0.261 cycle_B: 0.054 idt_B: 0.045 \n",
            "(epoch: 21, iters: 200, time: 0.484, data: 0.001) D_A: 0.259 G_A: 0.270 cycle_A: 0.213 idt_A: 1.223 D_B: 0.220 G_B: 0.305 cycle_B: 2.460 idt_B: 0.098 \n",
            "End of epoch 21 / 200 \t Time Taken: 95 sec\n",
            "SSL Loss!!: 0.7930795412797195\n",
            "learning rate 0.0001000 -> 0.0001000\n",
            "(epoch: 22, iters: 100, time: 0.483, data: 0.002) D_A: 0.343 G_A: 0.344 cycle_A: 0.111 idt_A: 1.203 D_B: 0.253 G_B: 0.365 cycle_B: 2.405 idt_B: 0.047 \n",
            "(epoch: 22, iters: 200, time: 0.683, data: 0.001) D_A: 0.234 G_A: 0.278 cycle_A: 0.191 idt_A: 1.205 D_B: 0.215 G_B: 0.407 cycle_B: 2.411 idt_B: 0.078 \n",
            "End of epoch 22 / 200 \t Time Taken: 95 sec\n",
            "SSL Loss!!: 0.7455219947374784\n",
            "learning rate 0.0001000 -> 0.0001000\n",
            "(epoch: 23, iters: 100, time: 0.488, data: 0.002) D_A: 0.267 G_A: 0.257 cycle_A: 0.939 idt_A: 0.021 D_B: 0.263 G_B: 0.189 cycle_B: 0.042 idt_B: 0.377 \n",
            "(epoch: 23, iters: 200, time: 0.488, data: 0.001) D_A: 0.236 G_A: 0.293 cycle_A: 0.150 idt_A: 0.019 D_B: 0.246 G_B: 0.272 cycle_B: 0.030 idt_B: 0.069 \n",
            "End of epoch 23 / 200 \t Time Taken: 94 sec\n",
            "SSL Loss!!: 0.7695935276838449\n",
            "learning rate 0.0001000 -> 0.0001000\n",
            "(epoch: 24, iters: 100, time: 0.483, data: 0.002) D_A: 0.213 G_A: 0.280 cycle_A: 0.122 idt_A: 1.204 D_B: 0.270 G_B: 0.402 cycle_B: 2.403 idt_B: 0.043 \n",
            "(epoch: 24, iters: 200, time: 0.702, data: 0.001) D_A: 0.220 G_A: 0.340 cycle_A: 0.121 idt_A: 0.012 D_B: 0.253 G_B: 0.316 cycle_B: 0.024 idt_B: 0.048 \n",
            "End of epoch 24 / 200 \t Time Taken: 95 sec\n",
            "SSL Loss!!: 0.7983079231702365\n",
            "learning rate 0.0001000 -> 0.0001000\n",
            "(epoch: 25, iters: 100, time: 0.483, data: 0.002) D_A: 0.247 G_A: 0.378 cycle_A: 0.092 idt_A: 1.194 D_B: 0.209 G_B: 0.302 cycle_B: 2.391 idt_B: 0.041 \n",
            "(epoch: 25, iters: 200, time: 0.488, data: 0.001) D_A: 0.246 G_A: 0.293 cycle_A: 0.094 idt_A: 0.016 D_B: 0.252 G_B: 0.230 cycle_B: 0.030 idt_B: 0.038 \n",
            "saving the latest model (epoch 25, total_iters 5000)\n",
            "saving the model at the end of epoch 25, iters 5000\n",
            "End of epoch 25 / 200 \t Time Taken: 96 sec\n",
            "SSL Loss!!: 0.8337978491416345\n",
            "learning rate 0.0001000 -> 0.0001000\n",
            "(epoch: 26, iters: 100, time: 0.489, data: 0.002) D_A: 0.293 G_A: 0.363 cycle_A: 0.218 idt_A: 0.037 D_B: 0.201 G_B: 0.432 cycle_B: 0.052 idt_B: 0.087 \n",
            "(epoch: 26, iters: 200, time: 0.676, data: 0.001) D_A: 0.212 G_A: 0.267 cycle_A: 0.090 idt_A: 1.188 D_B: 0.228 G_B: 0.489 cycle_B: 2.382 idt_B: 0.038 \n",
            "End of epoch 26 / 200 \t Time Taken: 95 sec\n",
            "SSL Loss!!: 0.7845574617385864\n",
            "learning rate 0.0001000 -> 0.0001000\n",
            "(epoch: 27, iters: 100, time: 0.484, data: 0.002) D_A: 0.243 G_A: 0.307 cycle_A: 0.100 idt_A: 1.200 D_B: 0.261 G_B: 0.379 cycle_B: 2.406 idt_B: 0.043 \n",
            "(epoch: 27, iters: 200, time: 0.490, data: 0.001) D_A: 0.236 G_A: 0.255 cycle_A: 0.219 idt_A: 0.029 D_B: 0.245 G_B: 0.196 cycle_B: 0.062 idt_B: 0.091 \n",
            "End of epoch 27 / 200 \t Time Taken: 94 sec\n",
            "SSL Loss!!: 0.8126869660157424\n",
            "learning rate 0.0001000 -> 0.0001000\n",
            "(epoch: 28, iters: 100, time: 0.489, data: 0.002) D_A: 0.263 G_A: 0.297 cycle_A: 0.168 idt_A: 0.014 D_B: 0.269 G_B: 0.305 cycle_B: 0.028 idt_B: 0.045 \n",
            "(epoch: 28, iters: 200, time: 0.704, data: 0.001) D_A: 0.275 G_A: 0.315 cycle_A: 0.372 idt_A: 0.057 D_B: 0.246 G_B: 0.169 cycle_B: 0.099 idt_B: 0.104 \n",
            "End of epoch 28 / 200 \t Time Taken: 95 sec\n",
            "SSL Loss!!: 0.8286316853303176\n",
            "learning rate 0.0001000 -> 0.0001000\n",
            "(epoch: 29, iters: 100, time: 0.484, data: 0.002) D_A: 0.251 G_A: 0.210 cycle_A: 0.145 idt_A: 1.180 D_B: 0.167 G_B: 0.498 cycle_B: 2.371 idt_B: 0.053 \n",
            "(epoch: 29, iters: 200, time: 0.490, data: 0.001) D_A: 0.234 G_A: 0.235 cycle_A: 0.125 idt_A: 0.030 D_B: 0.283 G_B: 0.264 cycle_B: 0.075 idt_B: 0.062 \n",
            "End of epoch 29 / 200 \t Time Taken: 94 sec\n",
            "SSL Loss!!: 0.7599887756200937\n",
            "learning rate 0.0001000 -> 0.0001000\n",
            "(epoch: 30, iters: 100, time: 0.485, data: 0.002) D_A: 0.276 G_A: 0.421 cycle_A: 0.185 idt_A: 1.197 D_B: 0.288 G_B: 0.643 cycle_B: 2.405 idt_B: 0.060 \n",
            "(epoch: 30, iters: 200, time: 0.704, data: 0.003) D_A: 0.214 G_A: 0.361 cycle_A: 0.150 idt_A: 0.056 D_B: 0.220 G_B: 0.198 cycle_B: 0.107 idt_B: 0.060 \n",
            "saving the model at the end of epoch 30, iters 6000\n",
            "End of epoch 30 / 200 \t Time Taken: 97 sec\n",
            "SSL Loss!!: 0.8498861468755282\n",
            "learning rate 0.0001000 -> 0.0001000\n",
            "(epoch: 31, iters: 100, time: 0.483, data: 0.002) D_A: 0.256 G_A: 0.236 cycle_A: 0.298 idt_A: 1.223 D_B: 0.253 G_B: 0.545 cycle_B: 2.442 idt_B: 0.079 \n",
            "(epoch: 31, iters: 200, time: 0.488, data: 0.001) D_A: 0.246 G_A: 0.296 cycle_A: 0.186 idt_A: 0.047 D_B: 0.163 G_B: 0.381 cycle_B: 0.088 idt_B: 0.065 \n",
            "End of epoch 31 / 200 \t Time Taken: 94 sec\n",
            "SSL Loss!!: 0.8029086406414325\n",
            "learning rate 0.0001000 -> 0.0001000\n",
            "(epoch: 32, iters: 100, time: 0.483, data: 0.002) D_A: 0.233 G_A: 0.274 cycle_A: 0.418 idt_A: 1.178 D_B: 0.141 G_B: 0.394 cycle_B: 2.356 idt_B: 0.084 \n",
            "(epoch: 32, iters: 200, time: 0.733, data: 0.001) D_A: 0.248 G_A: 0.327 cycle_A: 0.199 idt_A: 1.176 D_B: 0.243 G_B: 0.658 cycle_B: 2.347 idt_B: 0.073 \n",
            "End of epoch 32 / 200 \t Time Taken: 95 sec\n",
            "SSL Loss!!: 0.7948201803060678\n",
            "learning rate 0.0001000 -> 0.0001000\n",
            "(epoch: 33, iters: 100, time: 0.488, data: 0.002) D_A: 0.243 G_A: 0.328 cycle_A: 0.150 idt_A: 0.018 D_B: 0.231 G_B: 0.329 cycle_B: 0.041 idt_B: 0.063 \n",
            "(epoch: 33, iters: 200, time: 0.488, data: 0.001) D_A: 0.214 G_A: 0.311 cycle_A: 0.156 idt_A: 0.038 D_B: 0.266 G_B: 0.428 cycle_B: 0.067 idt_B: 0.063 \n",
            "End of epoch 33 / 200 \t Time Taken: 94 sec\n",
            "SSL Loss!!: 0.8379356906964228\n",
            "learning rate 0.0001000 -> 0.0001000\n",
            "(epoch: 34, iters: 100, time: 0.488, data: 0.002) D_A: 0.261 G_A: 0.349 cycle_A: 0.192 idt_A: 0.024 D_B: 0.229 G_B: 0.344 cycle_B: 0.048 idt_B: 0.072 \n",
            "(epoch: 34, iters: 200, time: 0.708, data: 0.001) D_A: 0.240 G_A: 0.234 cycle_A: 0.130 idt_A: 0.021 D_B: 0.283 G_B: 0.327 cycle_B: 0.044 idt_B: 0.064 \n",
            "End of epoch 34 / 200 \t Time Taken: 95 sec\n",
            "SSL Loss!!: 0.8487719939305232\n",
            "learning rate 0.0001000 -> 0.0001000\n",
            "(epoch: 35, iters: 100, time: 0.487, data: 0.002) D_A: 0.232 G_A: 0.189 cycle_A: 0.145 idt_A: 0.024 D_B: 0.256 G_B: 0.175 cycle_B: 0.064 idt_B: 0.063 \n",
            "(epoch: 35, iters: 200, time: 0.485, data: 0.001) D_A: 0.276 G_A: 0.575 cycle_A: 0.139 idt_A: 1.166 D_B: 0.199 G_B: 0.574 cycle_B: 2.336 idt_B: 0.108 \n",
            "saving the model at the end of epoch 35, iters 7000\n",
            "End of epoch 35 / 200 \t Time Taken: 96 sec\n",
            "SSL Loss!!: 0.8448308110237122\n",
            "learning rate 0.0001000 -> 0.0001000\n",
            "(epoch: 36, iters: 100, time: 0.483, data: 0.002) D_A: 0.242 G_A: 0.251 cycle_A: 0.218 idt_A: 1.172 D_B: 0.188 G_B: 0.471 cycle_B: 2.352 idt_B: 0.090 \n",
            "(epoch: 36, iters: 200, time: 0.745, data: 0.001) D_A: 0.194 G_A: 0.311 cycle_A: 0.166 idt_A: 0.055 D_B: 0.258 G_B: 0.091 cycle_B: 0.133 idt_B: 0.063 \n",
            "End of epoch 36 / 200 \t Time Taken: 95 sec\n",
            "SSL Loss!!: 0.7995712298613328\n",
            "learning rate 0.0001000 -> 0.0001000\n",
            "(epoch: 37, iters: 100, time: 0.483, data: 0.002) D_A: 0.252 G_A: 0.476 cycle_A: 0.176 idt_A: 1.147 D_B: 0.154 G_B: 0.420 cycle_B: 2.295 idt_B: 0.073 \n",
            "(epoch: 37, iters: 200, time: 0.489, data: 0.001) D_A: 0.251 G_A: 0.251 cycle_A: 0.119 idt_A: 0.039 D_B: 0.229 G_B: 0.242 cycle_B: 0.095 idt_B: 0.044 \n",
            "End of epoch 37 / 200 \t Time Taken: 94 sec\n",
            "SSL Loss!!: 0.8199738814280584\n",
            "learning rate 0.0001000 -> 0.0001000\n",
            "(epoch: 38, iters: 100, time: 0.489, data: 0.002) D_A: 0.231 G_A: 0.383 cycle_A: 0.214 idt_A: 0.025 D_B: 0.212 G_B: 0.261 cycle_B: 0.081 idt_B: 0.099 \n",
            "(epoch: 38, iters: 200, time: 0.716, data: 0.001) D_A: 0.243 G_A: 0.334 cycle_A: 0.181 idt_A: 0.018 D_B: 0.253 G_B: 0.391 cycle_B: 0.045 idt_B: 0.070 \n",
            "End of epoch 38 / 200 \t Time Taken: 95 sec\n",
            "SSL Loss!!: 0.7748307998363788\n",
            "learning rate 0.0001000 -> 0.0001000\n",
            "(epoch: 39, iters: 100, time: 0.489, data: 0.002) D_A: 0.301 G_A: 0.372 cycle_A: 0.178 idt_A: 0.015 D_B: 0.296 G_B: 0.239 cycle_B: 0.037 idt_B: 0.060 \n",
            "(epoch: 39, iters: 200, time: 0.490, data: 0.001) D_A: 0.244 G_A: 0.213 cycle_A: 0.134 idt_A: 0.021 D_B: 0.244 G_B: 0.143 cycle_B: 0.046 idt_B: 0.091 \n",
            "End of epoch 39 / 200 \t Time Taken: 94 sec\n",
            "SSL Loss!!: 0.8217359735415533\n",
            "learning rate 0.0001000 -> 0.0001000\n",
            "(epoch: 40, iters: 100, time: 0.473, data: 0.002) D_A: 0.179 G_A: 0.339 cycle_A: 0.723 idt_A: 3.408 D_B: 0.151 G_B: 0.739 cycle_B: 6.818 idt_B: 0.312 \n",
            "(epoch: 40, iters: 200, time: 0.742, data: 0.001) D_A: 0.308 G_A: 0.093 cycle_A: 0.107 idt_A: 1.152 D_B: 0.252 G_B: 0.424 cycle_B: 2.325 idt_B: 0.043 \n",
            "saving the model at the end of epoch 40, iters 8000\n",
            "End of epoch 40 / 200 \t Time Taken: 97 sec\n",
            "SSL Loss!!: 0.8499716245211087\n",
            "learning rate 0.0001000 -> 0.0001000\n",
            "(epoch: 41, iters: 100, time: 0.490, data: 0.002) D_A: 0.256 G_A: 0.258 cycle_A: 0.165 idt_A: 0.012 D_B: 0.282 G_B: 0.296 cycle_B: 0.038 idt_B: 0.049 \n",
            "(epoch: 41, iters: 200, time: 0.488, data: 0.001) D_A: 0.236 G_A: 0.240 cycle_A: 0.103 idt_A: 0.031 D_B: 0.236 G_B: 0.246 cycle_B: 0.087 idt_B: 0.044 \n",
            "End of epoch 41 / 200 \t Time Taken: 94 sec\n",
            "SSL Loss!!: 0.7758079469203949\n",
            "learning rate 0.0001000 -> 0.0001000\n",
            "(epoch: 42, iters: 100, time: 0.488, data: 0.002) D_A: 0.239 G_A: 0.539 cycle_A: 0.542 idt_A: 0.030 D_B: 0.249 G_B: 0.270 cycle_B: 0.073 idt_B: 0.291 \n",
            "(epoch: 42, iters: 200, time: 0.726, data: 0.001) D_A: 0.200 G_A: 0.412 cycle_A: 0.094 idt_A: 0.027 D_B: 0.263 G_B: 0.262 cycle_B: 0.064 idt_B: 0.037 \n",
            "End of epoch 42 / 200 \t Time Taken: 95 sec\n",
            "SSL Loss!!: 0.8338786822098953\n",
            "learning rate 0.0001000 -> 0.0001000\n",
            "(epoch: 43, iters: 100, time: 0.482, data: 0.003) D_A: 0.183 G_A: 0.486 cycle_A: 0.230 idt_A: 1.141 D_B: 0.240 G_B: 0.455 cycle_B: 2.294 idt_B: 0.091 \n",
            "(epoch: 43, iters: 200, time: 0.482, data: 0.001) D_A: 0.256 G_A: 0.269 cycle_A: 0.355 idt_A: 1.131 D_B: 0.232 G_B: 0.406 cycle_B: 2.260 idt_B: 0.106 \n",
            "End of epoch 43 / 200 \t Time Taken: 94 sec\n",
            "SSL Loss!!: 0.7484788023508512\n",
            "learning rate 0.0001000 -> 0.0001000\n",
            "(epoch: 44, iters: 100, time: 0.486, data: 0.002) D_A: 0.222 G_A: 0.311 cycle_A: 0.208 idt_A: 0.012 D_B: 0.265 G_B: 0.567 cycle_B: 0.021 idt_B: 0.061 \n",
            "(epoch: 44, iters: 200, time: 0.763, data: 0.001) D_A: 0.355 G_A: 0.042 cycle_A: 0.192 idt_A: 0.024 D_B: 0.236 G_B: 0.218 cycle_B: 0.057 idt_B: 0.090 \n",
            "End of epoch 44 / 200 \t Time Taken: 96 sec\n",
            "SSL Loss!!: 0.7671810044692113\n",
            "learning rate 0.0001000 -> 0.0001000\n",
            "(epoch: 45, iters: 100, time: 0.490, data: 0.002) D_A: 0.182 G_A: 0.441 cycle_A: 0.174 idt_A: 0.071 D_B: 0.237 G_B: 0.327 cycle_B: 0.083 idt_B: 0.056 \n",
            "(epoch: 45, iters: 200, time: 0.483, data: 0.001) D_A: 0.247 G_A: 0.661 cycle_A: 0.141 idt_A: 1.132 D_B: 0.271 G_B: 0.373 cycle_B: 2.274 idt_B: 0.073 \n",
            "saving the model at the end of epoch 45, iters 9000\n",
            "End of epoch 45 / 200 \t Time Taken: 95 sec\n",
            "SSL Loss!!: 0.8251560972287104\n",
            "learning rate 0.0001000 -> 0.0001000\n",
            "(epoch: 46, iters: 100, time: 0.489, data: 0.002) D_A: 0.232 G_A: 0.249 cycle_A: 0.161 idt_A: 0.033 D_B: 0.249 G_B: 0.287 cycle_B: 0.100 idt_B: 0.067 \n",
            "(epoch: 46, iters: 200, time: 0.743, data: 0.001) D_A: 0.296 G_A: 0.652 cycle_A: 0.152 idt_A: 0.027 D_B: 0.203 G_B: 0.173 cycle_B: 0.072 idt_B: 0.052 \n",
            "End of epoch 46 / 200 \t Time Taken: 95 sec\n",
            "SSL Loss!!: 0.7522627940544715\n",
            "learning rate 0.0001000 -> 0.0001000\n",
            "(epoch: 47, iters: 100, time: 0.489, data: 0.002) D_A: 0.287 G_A: 0.545 cycle_A: 0.184 idt_A: 0.017 D_B: 0.270 G_B: 0.200 cycle_B: 0.038 idt_B: 0.055 \n",
            "(epoch: 47, iters: 200, time: 0.488, data: 0.001) D_A: 0.248 G_A: 0.217 cycle_A: 0.139 idt_A: 0.017 D_B: 0.211 G_B: 0.233 cycle_B: 0.041 idt_B: 0.084 \n",
            "End of epoch 47 / 200 \t Time Taken: 94 sec\n",
            "SSL Loss!!: 0.8924395258610065\n",
            "learning rate 0.0001000 -> 0.0001000\n",
            "(epoch: 48, iters: 100, time: 0.487, data: 0.002) D_A: 0.186 G_A: 0.207 cycle_A: 0.177 idt_A: 0.055 D_B: 0.211 G_B: 0.351 cycle_B: 0.136 idt_B: 0.059 \n",
            "(epoch: 48, iters: 200, time: 0.767, data: 0.001) D_A: 0.170 G_A: 0.387 cycle_A: 0.215 idt_A: 0.029 D_B: 0.276 G_B: 0.278 cycle_B: 0.070 idt_B: 0.076 \n",
            "End of epoch 48 / 200 \t Time Taken: 95 sec\n",
            "SSL Loss!!: 0.847070052073552\n",
            "learning rate 0.0001000 -> 0.0001000\n",
            "(epoch: 49, iters: 100, time: 0.489, data: 0.002) D_A: 0.233 G_A: 0.248 cycle_A: 0.118 idt_A: 0.033 D_B: 0.203 G_B: 0.363 cycle_B: 0.058 idt_B: 0.040 \n",
            "(epoch: 49, iters: 200, time: 0.484, data: 0.001) D_A: 0.190 G_A: 0.392 cycle_A: 0.612 idt_A: 1.122 D_B: 0.256 G_B: 0.397 cycle_B: 2.269 idt_B: 0.099 \n",
            "End of epoch 49 / 200 \t Time Taken: 94 sec\n",
            "SSL Loss!!: 0.7914800643920898\n",
            "learning rate 0.0001000 -> 0.0001000\n",
            "(epoch: 50, iters: 100, time: 0.490, data: 0.002) D_A: 0.240 G_A: 0.377 cycle_A: 0.164 idt_A: 0.025 D_B: 0.250 G_B: 0.284 cycle_B: 0.053 idt_B: 0.052 \n",
            "(epoch: 50, iters: 200, time: 0.747, data: 0.001) D_A: 0.254 G_A: 0.211 cycle_A: 0.325 idt_A: 0.028 D_B: 0.229 G_B: 0.213 cycle_B: 0.095 idt_B: 0.098 \n",
            "saving the latest model (epoch 50, total_iters 10000)\n",
            "saving the model at the end of epoch 50, iters 10000\n",
            "End of epoch 50 / 200 \t Time Taken: 97 sec\n",
            "SSL Loss!!: 0.8371410324023321\n",
            "learning rate 0.0001000 -> 0.0001000\n",
            "(epoch: 51, iters: 100, time: 0.488, data: 0.002) D_A: 0.234 G_A: 0.511 cycle_A: 0.151 idt_A: 0.036 D_B: 0.242 G_B: 0.244 cycle_B: 0.087 idt_B: 0.046 \n",
            "(epoch: 51, iters: 200, time: 0.489, data: 0.001) D_A: 0.243 G_A: 0.135 cycle_A: 0.115 idt_A: 0.042 D_B: 0.211 G_B: 0.286 cycle_B: 0.084 idt_B: 0.049 \n",
            "End of epoch 51 / 200 \t Time Taken: 95 sec\n",
            "SSL Loss!!: 0.8782337124531086\n",
            "learning rate 0.0001000 -> 0.0001000\n",
            "(epoch: 52, iters: 100, time: 0.486, data: 0.002) D_A: 0.213 G_A: 0.363 cycle_A: 0.247 idt_A: 0.028 D_B: 0.234 G_B: 0.272 cycle_B: 0.072 idt_B: 0.084 \n",
            "(epoch: 52, iters: 200, time: 0.733, data: 0.001) D_A: 0.188 G_A: 0.446 cycle_A: 0.124 idt_A: 0.026 D_B: 0.210 G_B: 0.294 cycle_B: 0.062 idt_B: 0.038 \n",
            "End of epoch 52 / 200 \t Time Taken: 95 sec\n",
            "SSL Loss!!: 0.818766827766712\n",
            "learning rate 0.0001000 -> 0.0001000\n",
            "(epoch: 53, iters: 100, time: 0.490, data: 0.002) D_A: 0.167 G_A: 0.475 cycle_A: 0.255 idt_A: 0.023 D_B: 0.274 G_B: 0.165 cycle_B: 0.046 idt_B: 0.062 \n",
            "(epoch: 53, iters: 200, time: 0.489, data: 0.001) D_A: 0.176 G_A: 0.235 cycle_A: 0.164 idt_A: 0.027 D_B: 0.251 G_B: 0.254 cycle_B: 0.070 idt_B: 0.060 \n",
            "End of epoch 53 / 200 \t Time Taken: 94 sec\n",
            "SSL Loss!!: 0.8167787515200101\n",
            "learning rate 0.0001000 -> 0.0001000\n",
            "(epoch: 54, iters: 100, time: 0.483, data: 0.002) D_A: 0.556 G_A: 0.040 cycle_A: 0.226 idt_A: 1.123 D_B: 0.236 G_B: 0.527 cycle_B: 2.267 idt_B: 0.069 \n",
            "(epoch: 54, iters: 200, time: 0.778, data: 0.001) D_A: 0.285 G_A: 0.039 cycle_A: 0.093 idt_A: 0.034 D_B: 0.261 G_B: 0.296 cycle_B: 0.084 idt_B: 0.031 \n",
            "End of epoch 54 / 200 \t Time Taken: 95 sec\n",
            "SSL Loss!!: 0.8142811105801508\n",
            "learning rate 0.0001000 -> 0.0001000\n",
            "(epoch: 55, iters: 100, time: 0.489, data: 0.002) D_A: 0.244 G_A: 1.102 cycle_A: 0.155 idt_A: 0.020 D_B: 0.230 G_B: 0.195 cycle_B: 0.054 idt_B: 0.056 \n",
            "(epoch: 55, iters: 200, time: 0.490, data: 0.001) D_A: 0.165 G_A: 0.728 cycle_A: 0.150 idt_A: 0.027 D_B: 0.272 G_B: 0.248 cycle_B: 0.064 idt_B: 0.042 \n",
            "saving the model at the end of epoch 55, iters 11000\n",
            "End of epoch 55 / 200 \t Time Taken: 95 sec\n",
            "SSL Loss!!: 0.8211103998697721\n",
            "learning rate 0.0001000 -> 0.0001000\n",
            "(epoch: 56, iters: 100, time: 0.489, data: 0.002) D_A: 0.257 G_A: 0.079 cycle_A: 0.304 idt_A: 0.015 D_B: 0.251 G_B: 0.229 cycle_B: 0.036 idt_B: 0.077 \n",
            "(epoch: 56, iters: 200, time: 0.760, data: 0.001) D_A: 0.247 G_A: 0.959 cycle_A: 0.497 idt_A: 0.054 D_B: 0.276 G_B: 0.241 cycle_B: 0.108 idt_B: 0.076 \n",
            "End of epoch 56 / 200 \t Time Taken: 95 sec\n",
            "SSL Loss!!: 0.8058888866351201\n",
            "learning rate 0.0001000 -> 0.0001000\n",
            "(epoch: 57, iters: 100, time: 0.488, data: 0.002) D_A: 0.145 G_A: 0.688 cycle_A: 0.163 idt_A: 0.090 D_B: 0.251 G_B: 0.305 cycle_B: 0.181 idt_B: 0.048 \n",
            "(epoch: 57, iters: 200, time: 0.489, data: 0.002) D_A: 0.042 G_A: 0.923 cycle_A: 0.135 idt_A: 0.174 D_B: 0.262 G_B: 0.232 cycle_B: 0.348 idt_B: 0.031 \n",
            "End of epoch 57 / 200 \t Time Taken: 94 sec\n",
            "SSL Loss!!: 0.7891272489841168\n",
            "learning rate 0.0001000 -> 0.0001000\n",
            "(epoch: 58, iters: 100, time: 0.483, data: 0.002) D_A: 0.163 G_A: 1.076 cycle_A: 0.126 idt_A: 1.133 D_B: 0.227 G_B: 0.463 cycle_B: 2.267 idt_B: 0.033 \n",
            "(epoch: 58, iters: 200, time: 0.755, data: 0.001) D_A: 0.103 G_A: 0.991 cycle_A: 0.142 idt_A: 0.042 D_B: 0.217 G_B: 0.375 cycle_B: 0.080 idt_B: 0.045 \n",
            "End of epoch 58 / 200 \t Time Taken: 95 sec\n",
            "SSL Loss!!: 0.7897676367026109\n",
            "learning rate 0.0001000 -> 0.0001000\n",
            "(epoch: 59, iters: 100, time: 0.487, data: 0.002) D_A: 0.146 G_A: 1.055 cycle_A: 0.260 idt_A: 0.049 D_B: 0.239 G_B: 0.369 cycle_B: 0.093 idt_B: 0.073 \n",
            "(epoch: 59, iters: 200, time: 0.489, data: 0.001) D_A: 0.031 G_A: 0.702 cycle_A: 0.302 idt_A: 0.085 D_B: 0.201 G_B: 0.272 cycle_B: 0.169 idt_B: 0.060 \n",
            "End of epoch 59 / 200 \t Time Taken: 94 sec\n",
            "SSL Loss!!: 0.7961559479053204\n",
            "learning rate 0.0001000 -> 0.0001000\n",
            "(epoch: 60, iters: 100, time: 0.483, data: 0.002) D_A: 0.133 G_A: 0.983 cycle_A: 0.121 idt_A: 1.133 D_B: 0.226 G_B: 0.426 cycle_B: 2.267 idt_B: 0.029 \n",
            "(epoch: 60, iters: 200, time: 0.784, data: 0.001) D_A: 0.012 G_A: 0.904 cycle_A: 0.324 idt_A: 0.103 D_B: 0.246 G_B: 0.289 cycle_B: 0.207 idt_B: 0.115 \n",
            "saving the model at the end of epoch 60, iters 12000\n",
            "End of epoch 60 / 200 \t Time Taken: 97 sec\n",
            "SSL Loss!!: 0.802384289411398\n",
            "learning rate 0.0001000 -> 0.0001000\n",
            "(epoch: 61, iters: 100, time: 0.484, data: 0.002) D_A: 0.115 G_A: 0.711 cycle_A: 0.233 idt_A: 1.178 D_B: 0.206 G_B: 0.370 cycle_B: 2.356 idt_B: 0.071 \n",
            "(epoch: 61, iters: 200, time: 0.486, data: 0.001) D_A: 0.005 G_A: 0.972 cycle_A: 0.208 idt_A: 0.053 D_B: 0.218 G_B: 0.204 cycle_B: 0.106 idt_B: 0.063 \n",
            "End of epoch 61 / 200 \t Time Taken: 94 sec\n",
            "SSL Loss!!: 0.8032753788507901\n",
            "learning rate 0.0001000 -> 0.0001000\n"
          ]
        }
      ],
      "source": [
        "!python train.py --dataroot ../Image\\ Synthesis/ --name Evan_5_6_2_SSL --checkpoints_dir ../checkpoints/ --model cycle_gan --batch_size 4 --input_nc 1 --output_nc 1 --gpu_ids 0 --direction AtoB --save_epoch_freq 5 --use_wandb --preprocess crop --lr .0001 --pretrain 0 --SSL 1 --SLsubdirec ../label_data/ "
      ]
    },
    {
      "cell_type": "code",
      "execution_count": null,
      "metadata": {
        "colab": {
          "base_uri": "https://localhost:8080/",
          "height": 297
        },
        "id": "pIU7FNjQt5kv",
        "outputId": "2b5a5c8e-37ea-4a75-9288-1416b241ed71"
      },
      "outputs": [
        {
          "output_type": "execute_result",
          "data": {
            "text/plain": [
              "Text(0, 0.5, 'SSL Loss')"
            ]
          },
          "metadata": {},
          "execution_count": 44
        },
        {
          "output_type": "display_data",
          "data": {
            "text/plain": [
              "<Figure size 432x288 with 1 Axes>"
            ],
            "image/png": "[encoded data removed]"
          },
          "metadata": {
            "needs_background": "light"
          }
        }
      ],
      "source": [
        "data = np.load(\"/content/gdrive/MyDrive/Bioimage Informatics/pytorch-CycleGAN-and-pix2pix/SSL_Evan_5_6_1_SL.npy\",allow_pickle= True)\n",
        "\n",
        "plt.figure()\n",
        "plt.plot(np.arange(len(data)),data)\n",
        "plt.xlabel(\"Epoch\")\n",
        "plt.ylabel(\"SSL Loss\")"
      ]
    },
    {
      "cell_type": "markdown",
      "metadata": {
        "id": "B8ybXZdZUiem"
      },
      "source": [
        "## Cycle GAN Testing "
      ]
    },
    {
      "cell_type": "code",
      "execution_count": null,
      "metadata": {
        "colab": {
          "base_uri": "https://localhost:8080/"
        },
        "id": "Dy7zJWAOVGN5",
        "outputId": "de42a6c8-cf76-4666-de32-8279b7c5b501"
      },
      "outputs": [
        {
          "name": "stdout",
          "output_type": "stream",
          "text": [
            "mkdir: cannot create directory ‘../denoise_results’: File exists\n"
          ]
        }
      ],
      "source": [
        "%mkdir ../denoise_results"
      ]
    },
    {
      "cell_type": "code",
      "execution_count": null,
      "metadata": {
        "colab": {
          "base_uri": "https://localhost:8080/"
        },
        "id": "_mecDjaQUk4d",
        "outputId": "56a32afa-f789-4ca2-bd6c-cd673bf8d2dd"
      },
      "outputs": [
        {
          "output_type": "stream",
          "name": "stdout",
          "text": [
            "----------------- Options ---------------\n",
            "               SLsubdirec:                               \n",
            "             aspect_ratio: 1.0                           \n",
            "               batch_size: 1                             \n",
            "          checkpoints_dir: ../checkpoints                \t[default: ./checkpoints]\n",
            "                crop_size: 256                           \n",
            "                 dataroot: ../Image Synthesis/testA      \t[default: None]\n",
            "             dataset_mode: single                        \n",
            "                direction: AtoB                          \n",
            "          display_winsize: 256                           \n",
            "                    epoch: latest                        \n",
            "                     eval: False                         \n",
            "                  gpu_ids: 0                             \n",
            "                init_gain: 0.02                          \n",
            "                init_type: normal                        \n",
            "                 input_nc: 1                             \t[default: 3]\n",
            "                  isTrain: False                         \t[default: None]\n",
            "                load_iter: 0                             \t[default: 0]\n",
            "                load_size: 256                           \n",
            "         max_dataset_size: inf                           \n",
            "                    model: test                          \n",
            "             model_suffix:                               \n",
            "               n_layers_D: 3                             \n",
            "                     name: Evan_5_6_2_SSL                \t[default: experiment_name]\n",
            "                      ndf: 64                            \n",
            "                     netD: basic                         \n",
            "                     netG: resnet_9blocks                \n",
            "                      ngf: 64                            \n",
            "               no_dropout: True                          \t[default: False]\n",
            "                  no_flip: False                         \n",
            "                     norm: instance                      \n",
            "                 num_test: 36                            \t[default: 50]\n",
            "              num_threads: 4                             \n",
            "                output_nc: 1                             \t[default: 3]\n",
            "                    phase: test                          \n",
            "               preprocess: resize_and_crop               \n",
            "              results_dir: ../denoise_results            \t[default: ./results/]\n",
            "           serial_batches: False                         \n",
            "                   suffix:                               \n",
            "                use_wandb: False                         \n",
            "                  verbose: False                         \n",
            "----------------- End -------------------\n",
            "/usr/local/lib/python3.7/dist-packages/torchvision/transforms/transforms.py:333: UserWarning: Argument interpolation should be of type InterpolationMode instead of int. Please, use InterpolationMode enum.\n",
            "  \"Argument interpolation should be of type InterpolationMode instead of int. \"\n",
            "dataset [SingleDataset] was created\n",
            "initialize network with normal\n",
            "model [TestModel] was created\n",
            "loading the model from ../checkpoints/Evan_5_6_2_SSL/latest_net_G.pth\n",
            "---------- Networks initialized -------------\n",
            "[Network G] Total number of parameters : 11.366 M\n",
            "-----------------------------------------------\n",
            "creating web directory ../denoise_results/Evan_5_6_2_SSL/test_latest\n",
            "processing (0000)-th image... ['../Image Synthesis/testA/test_c1_t0.jpg']\n",
            "processing (0005)-th image... ['../Image Synthesis/testA/test_c1_t17.jpg']\n",
            "processing (0010)-th image... ['../Image Synthesis/testA/test_c1_t22.jpg']\n",
            "processing (0015)-th image... ['../Image Synthesis/testA/test_c1_t27.jpg']\n",
            "processing (0020)-th image... ['../Image Synthesis/testA/test_c1_t34.jpg']\n",
            "processing (0025)-th image... ['../Image Synthesis/testA/test_c1_t40.jpg']\n",
            "processing (0030)-th image... ['../Image Synthesis/testA/test_c1_t47.jpg']\n",
            "processing (0035)-th image... ['../Image Synthesis/testA/test_c1_t8.jpg']\n"
          ]
        }
      ],
      "source": [
        "!python test.py --dataroot ../Image\\ Synthesis/testA --checkpoints_dir ../checkpoints --name Evan_5_6_2_SSL --model test --results_dir ../denoise_results --num_test 36 --input_nc 1 --output_nc 1 --gpu_ids 0 --direction AtoB --no_dropout"
      ]
    },
    {
      "cell_type": "code",
      "execution_count": null,
      "metadata": {
        "id": "HjX0PBmrhvVH"
      },
      "outputs": [],
      "source": [
        "!tar cvzf Ellipse2.tar.gz denoise_results/Ellipse_2"
      ]
    },
    {
      "cell_type": "markdown",
      "metadata": {
        "id": "uCRqPfl7mIpU"
      },
      "source": [
        "Moving Image files around"
      ]
    },
    {
      "cell_type": "code",
      "execution_count": null,
      "metadata": {
        "id": "MIDWQDFahQ0O"
      },
      "outputs": [],
      "source": [
        "import os\n",
        "import natsort\n",
        "\n",
        "\n",
        "IMG_EXTENSIONS = [\n",
        "    '.jpg', '.JPG', '.jpeg', '.JPEG',\n",
        "    '.png', '.PNG', '.ppm', '.PPM', '.bmp', '.BMP',\n",
        "    '.tif', '.TIF', '.tiff', '.TIFF',\n",
        "]\n",
        "\n",
        "\n",
        "def is_image_file(filename):\n",
        "    return any(filename.endswith(extension) for extension in IMG_EXTENSIONS)\n",
        "\n",
        "images = []\n",
        "\n",
        "for root, _, fnames in sorted(os.walk('../label_data/Annotated/mcherry')):\n",
        "        for fname in fnames:\n",
        "            if is_image_file(fname):\n",
        "                path = fname\n",
        "                # path = os.path.join(root, fname)\n",
        "                images.append(path)"
      ]
    },
    {
      "cell_type": "code",
      "execution_count": null,
      "metadata": {
        "colab": {
          "base_uri": "https://localhost:8080/"
        },
        "id": "5zRCRWFdmFlW",
        "outputId": "deedfa5a-8731-4aa0-d8d1-94ee6332e427"
      },
      "outputs": [
        {
          "data": {
            "text/plain": [
              "['result_1.png',\n",
              " 'result_2.png',\n",
              " 'result_3.png',\n",
              " 'result_5.png',\n",
              " 'result_6.png',\n",
              " 'result_7.png',\n",
              " 'result_9.png',\n",
              " 'result_10.png',\n",
              " 'result_11.png',\n",
              " 'result_12.png',\n",
              " 'result_30.png',\n",
              " 'result_33.png',\n",
              " 'result_38.png',\n",
              " 'result_39.png',\n",
              " 'result_41.png',\n",
              " 'result_42.png',\n",
              " 'result_48.png',\n",
              " 'result_50.png',\n",
              " 'result_53.png',\n",
              " 'result_54.png',\n",
              " 'result_55.png',\n",
              " 'result_57.png',\n",
              " 'result_58.png',\n",
              " 'result_59.png']"
            ]
          },
          "execution_count": 8,
          "metadata": {},
          "output_type": "execute_result"
        }
      ],
      "source": [
        "sort = natsort.natsorted(images)\n",
        "sort"
      ]
    },
    {
      "cell_type": "code",
      "execution_count": null,
      "metadata": {
        "id": "2uuK_8-zwIp8"
      },
      "outputs": [],
      "source": [
        "GFP = []\n",
        "mCherry = []\n",
        "for file in sort:\n",
        "\n",
        "    split = file.split('/')\n",
        "\n",
        "    if split[1] == 'GFP':\n",
        "      GFP.append(split[2].split(\"_\")[1].split(\".\")[0])\n",
        "    \n",
        "    elif split[1] =='mcherry':\n",
        "      mCherry.append(split[2].split(\"_\")[1].split(\".\")[0])\n"
      ]
    },
    {
      "cell_type": "markdown",
      "metadata": {
        "id": "1gOnuRFdLL4x"
      },
      "source": [
        "Testing that the Resize transformation is consistent across the images"
      ]
    },
    {
      "cell_type": "code",
      "execution_count": null,
      "metadata": {
        "id": "25EN00xA0_ge"
      },
      "outputs": [],
      "source": [
        "import torch\n",
        "import torch.utils.data as data\n",
        "import torchvision.transforms as transforms\n",
        "from PIL import Image"
      ]
    },
    {
      "cell_type": "code",
      "execution_count": null,
      "metadata": {
        "colab": {
          "base_uri": "https://localhost:8080/"
        },
        "id": "vSJoZ0lHj34t",
        "outputId": "0d3307ad-87e0-4f78-d5e3-6025d1ff8d07"
      },
      "outputs": [
        {
          "data": {
            "text/plain": [
              "tensor(0.)"
            ]
          },
          "execution_count": 24,
          "metadata": {},
          "output_type": "execute_result"
        }
      ],
      "source": [
        "annoted = '/content/gdrive/MyDrive/Bioimage Informatics/label_data/Annotated/GFP/result_0.png'\n",
        "intput = '/content/gdrive/MyDrive/Bioimage Informatics/label_data/Input/GFP/test_c0_t0.jpg'\n",
        "\n",
        "trainA = '/content/gdrive/MyDrive/Bioimage Informatics/Image Synthesis/trainA/channel_0_001.jpg'\n",
        "trainB = '/content/gdrive/MyDrive/Bioimage Informatics/Image Synthesis/trainB/synth_0.jpg'\n",
        "\n",
        "img1 = Image.open(annoted)\n",
        "img2 = img1.copy()\n",
        "img1 = transforms.ToTensor()(img1)\n",
        "img1.shape\n",
        "img1 = transforms.Resize(148)(img1)\n",
        "\n",
        "img2 = transforms.ToTensor()(img2)\n",
        "img2 = transforms.Resize(148)(img2)\n",
        "transforms.ToPILImage()(img2)\n",
        "transforms.ToPILImage()(img1)\n",
        "\n",
        "torch.nn.MSELoss()(img1,img2)\n"
      ]
    }
  ],
  "metadata": {
    "accelerator": "GPU",
    "colab": {
      "collapsed_sections": [
        "PKAmfcuT8JBg"
      ],
      "machine_shape": "hm",
      "name": "Cycle_GAN_Denoise.ipynb",
      "provenance": []
    },
    "kernelspec": {
      "display_name": "Python 3",
      "name": "python3"
    },
    "language_info": {
      "name": "python"
    }
  },
  "nbformat": 4,
  "nbformat_minor": 0
}